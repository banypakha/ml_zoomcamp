{
 "cells": [
  {
   "cell_type": "code",
   "execution_count": 1,
   "id": "eab5ac78",
   "metadata": {},
   "outputs": [],
   "source": [
    "import pandas as pd\n",
    "import numpy as np\n",
    "\n",
    "import matplotlib.pyplot as plt\n",
    "import seaborn as sns\n",
    "\n",
    "%matplotlib inline"
   ]
  },
  {
   "cell_type": "code",
   "execution_count": 2,
   "id": "d0d72f84",
   "metadata": {},
   "outputs": [],
   "source": [
    "from sklearn.tree import DecisionTreeClassifier\n",
    "from sklearn.feature_extraction import DictVectorizer\n",
    "from sklearn.metrics import roc_auc_score\n",
    "from sklearn.tree import export_text\n",
    "from sklearn.metrics import f1_score\n",
    "from sklearn.preprocessing import StandardScaler\n",
    "from sklearn.compose import ColumnTransformer"
   ]
  },
  {
   "cell_type": "code",
   "execution_count": 3,
   "id": "822480db",
   "metadata": {},
   "outputs": [
    {
     "data": {
      "text/html": [
       "<div>\n",
       "<style scoped>\n",
       "    .dataframe tbody tr th:only-of-type {\n",
       "        vertical-align: middle;\n",
       "    }\n",
       "\n",
       "    .dataframe tbody tr th {\n",
       "        vertical-align: top;\n",
       "    }\n",
       "\n",
       "    .dataframe thead th {\n",
       "        text-align: right;\n",
       "    }\n",
       "</style>\n",
       "<table border=\"1\" class=\"dataframe\">\n",
       "  <thead>\n",
       "    <tr style=\"text-align: right;\">\n",
       "      <th></th>\n",
       "      <th>enrollee_id</th>\n",
       "      <th>city</th>\n",
       "      <th>city_development_index</th>\n",
       "      <th>gender</th>\n",
       "      <th>relevent_experience</th>\n",
       "      <th>enrolled_university</th>\n",
       "      <th>education_level</th>\n",
       "      <th>major_discipline</th>\n",
       "      <th>experience</th>\n",
       "      <th>company_size</th>\n",
       "      <th>company_type</th>\n",
       "      <th>last_new_job</th>\n",
       "      <th>training_hours</th>\n",
       "      <th>target</th>\n",
       "    </tr>\n",
       "  </thead>\n",
       "  <tbody>\n",
       "    <tr>\n",
       "      <th>0</th>\n",
       "      <td>8949</td>\n",
       "      <td>city_103</td>\n",
       "      <td>0.920</td>\n",
       "      <td>Male</td>\n",
       "      <td>Has relevent experience</td>\n",
       "      <td>no_enrollment</td>\n",
       "      <td>Graduate</td>\n",
       "      <td>STEM</td>\n",
       "      <td>&gt;20</td>\n",
       "      <td>NaN</td>\n",
       "      <td>NaN</td>\n",
       "      <td>1</td>\n",
       "      <td>36</td>\n",
       "      <td>1.0</td>\n",
       "    </tr>\n",
       "    <tr>\n",
       "      <th>1</th>\n",
       "      <td>29725</td>\n",
       "      <td>city_40</td>\n",
       "      <td>0.776</td>\n",
       "      <td>Male</td>\n",
       "      <td>No relevent experience</td>\n",
       "      <td>no_enrollment</td>\n",
       "      <td>Graduate</td>\n",
       "      <td>STEM</td>\n",
       "      <td>15</td>\n",
       "      <td>50-99</td>\n",
       "      <td>Pvt Ltd</td>\n",
       "      <td>&gt;4</td>\n",
       "      <td>47</td>\n",
       "      <td>0.0</td>\n",
       "    </tr>\n",
       "    <tr>\n",
       "      <th>2</th>\n",
       "      <td>11561</td>\n",
       "      <td>city_21</td>\n",
       "      <td>0.624</td>\n",
       "      <td>NaN</td>\n",
       "      <td>No relevent experience</td>\n",
       "      <td>Full time course</td>\n",
       "      <td>Graduate</td>\n",
       "      <td>STEM</td>\n",
       "      <td>5</td>\n",
       "      <td>NaN</td>\n",
       "      <td>NaN</td>\n",
       "      <td>never</td>\n",
       "      <td>83</td>\n",
       "      <td>0.0</td>\n",
       "    </tr>\n",
       "    <tr>\n",
       "      <th>3</th>\n",
       "      <td>33241</td>\n",
       "      <td>city_115</td>\n",
       "      <td>0.789</td>\n",
       "      <td>NaN</td>\n",
       "      <td>No relevent experience</td>\n",
       "      <td>NaN</td>\n",
       "      <td>Graduate</td>\n",
       "      <td>Business Degree</td>\n",
       "      <td>&lt;1</td>\n",
       "      <td>NaN</td>\n",
       "      <td>Pvt Ltd</td>\n",
       "      <td>never</td>\n",
       "      <td>52</td>\n",
       "      <td>1.0</td>\n",
       "    </tr>\n",
       "    <tr>\n",
       "      <th>4</th>\n",
       "      <td>666</td>\n",
       "      <td>city_162</td>\n",
       "      <td>0.767</td>\n",
       "      <td>Male</td>\n",
       "      <td>Has relevent experience</td>\n",
       "      <td>no_enrollment</td>\n",
       "      <td>Masters</td>\n",
       "      <td>STEM</td>\n",
       "      <td>&gt;20</td>\n",
       "      <td>50-99</td>\n",
       "      <td>Funded Startup</td>\n",
       "      <td>4</td>\n",
       "      <td>8</td>\n",
       "      <td>0.0</td>\n",
       "    </tr>\n",
       "    <tr>\n",
       "      <th>...</th>\n",
       "      <td>...</td>\n",
       "      <td>...</td>\n",
       "      <td>...</td>\n",
       "      <td>...</td>\n",
       "      <td>...</td>\n",
       "      <td>...</td>\n",
       "      <td>...</td>\n",
       "      <td>...</td>\n",
       "      <td>...</td>\n",
       "      <td>...</td>\n",
       "      <td>...</td>\n",
       "      <td>...</td>\n",
       "      <td>...</td>\n",
       "      <td>...</td>\n",
       "    </tr>\n",
       "    <tr>\n",
       "      <th>19153</th>\n",
       "      <td>7386</td>\n",
       "      <td>city_173</td>\n",
       "      <td>0.878</td>\n",
       "      <td>Male</td>\n",
       "      <td>No relevent experience</td>\n",
       "      <td>no_enrollment</td>\n",
       "      <td>Graduate</td>\n",
       "      <td>Humanities</td>\n",
       "      <td>14</td>\n",
       "      <td>NaN</td>\n",
       "      <td>NaN</td>\n",
       "      <td>1</td>\n",
       "      <td>42</td>\n",
       "      <td>1.0</td>\n",
       "    </tr>\n",
       "    <tr>\n",
       "      <th>19154</th>\n",
       "      <td>31398</td>\n",
       "      <td>city_103</td>\n",
       "      <td>0.920</td>\n",
       "      <td>Male</td>\n",
       "      <td>Has relevent experience</td>\n",
       "      <td>no_enrollment</td>\n",
       "      <td>Graduate</td>\n",
       "      <td>STEM</td>\n",
       "      <td>14</td>\n",
       "      <td>NaN</td>\n",
       "      <td>NaN</td>\n",
       "      <td>4</td>\n",
       "      <td>52</td>\n",
       "      <td>1.0</td>\n",
       "    </tr>\n",
       "    <tr>\n",
       "      <th>19155</th>\n",
       "      <td>24576</td>\n",
       "      <td>city_103</td>\n",
       "      <td>0.920</td>\n",
       "      <td>Male</td>\n",
       "      <td>Has relevent experience</td>\n",
       "      <td>no_enrollment</td>\n",
       "      <td>Graduate</td>\n",
       "      <td>STEM</td>\n",
       "      <td>&gt;20</td>\n",
       "      <td>50-99</td>\n",
       "      <td>Pvt Ltd</td>\n",
       "      <td>4</td>\n",
       "      <td>44</td>\n",
       "      <td>0.0</td>\n",
       "    </tr>\n",
       "    <tr>\n",
       "      <th>19156</th>\n",
       "      <td>5756</td>\n",
       "      <td>city_65</td>\n",
       "      <td>0.802</td>\n",
       "      <td>Male</td>\n",
       "      <td>Has relevent experience</td>\n",
       "      <td>no_enrollment</td>\n",
       "      <td>High School</td>\n",
       "      <td>NaN</td>\n",
       "      <td>&lt;1</td>\n",
       "      <td>500-999</td>\n",
       "      <td>Pvt Ltd</td>\n",
       "      <td>2</td>\n",
       "      <td>97</td>\n",
       "      <td>0.0</td>\n",
       "    </tr>\n",
       "    <tr>\n",
       "      <th>19157</th>\n",
       "      <td>23834</td>\n",
       "      <td>city_67</td>\n",
       "      <td>0.855</td>\n",
       "      <td>NaN</td>\n",
       "      <td>No relevent experience</td>\n",
       "      <td>no_enrollment</td>\n",
       "      <td>Primary School</td>\n",
       "      <td>NaN</td>\n",
       "      <td>2</td>\n",
       "      <td>NaN</td>\n",
       "      <td>NaN</td>\n",
       "      <td>1</td>\n",
       "      <td>127</td>\n",
       "      <td>0.0</td>\n",
       "    </tr>\n",
       "  </tbody>\n",
       "</table>\n",
       "<p>19158 rows × 14 columns</p>\n",
       "</div>"
      ],
      "text/plain": [
       "       enrollee_id      city  city_development_index gender  \\\n",
       "0             8949  city_103                   0.920   Male   \n",
       "1            29725   city_40                   0.776   Male   \n",
       "2            11561   city_21                   0.624    NaN   \n",
       "3            33241  city_115                   0.789    NaN   \n",
       "4              666  city_162                   0.767   Male   \n",
       "...            ...       ...                     ...    ...   \n",
       "19153         7386  city_173                   0.878   Male   \n",
       "19154        31398  city_103                   0.920   Male   \n",
       "19155        24576  city_103                   0.920   Male   \n",
       "19156         5756   city_65                   0.802   Male   \n",
       "19157        23834   city_67                   0.855    NaN   \n",
       "\n",
       "           relevent_experience enrolled_university education_level  \\\n",
       "0      Has relevent experience       no_enrollment        Graduate   \n",
       "1       No relevent experience       no_enrollment        Graduate   \n",
       "2       No relevent experience    Full time course        Graduate   \n",
       "3       No relevent experience                 NaN        Graduate   \n",
       "4      Has relevent experience       no_enrollment         Masters   \n",
       "...                        ...                 ...             ...   \n",
       "19153   No relevent experience       no_enrollment        Graduate   \n",
       "19154  Has relevent experience       no_enrollment        Graduate   \n",
       "19155  Has relevent experience       no_enrollment        Graduate   \n",
       "19156  Has relevent experience       no_enrollment     High School   \n",
       "19157   No relevent experience       no_enrollment  Primary School   \n",
       "\n",
       "      major_discipline experience company_size    company_type last_new_job  \\\n",
       "0                 STEM        >20          NaN             NaN            1   \n",
       "1                 STEM         15        50-99         Pvt Ltd           >4   \n",
       "2                 STEM          5          NaN             NaN        never   \n",
       "3      Business Degree         <1          NaN         Pvt Ltd        never   \n",
       "4                 STEM        >20        50-99  Funded Startup            4   \n",
       "...                ...        ...          ...             ...          ...   \n",
       "19153       Humanities         14          NaN             NaN            1   \n",
       "19154             STEM         14          NaN             NaN            4   \n",
       "19155             STEM        >20        50-99         Pvt Ltd            4   \n",
       "19156              NaN         <1      500-999         Pvt Ltd            2   \n",
       "19157              NaN          2          NaN             NaN            1   \n",
       "\n",
       "       training_hours  target  \n",
       "0                  36     1.0  \n",
       "1                  47     0.0  \n",
       "2                  83     0.0  \n",
       "3                  52     1.0  \n",
       "4                   8     0.0  \n",
       "...               ...     ...  \n",
       "19153              42     1.0  \n",
       "19154              52     1.0  \n",
       "19155              44     0.0  \n",
       "19156              97     0.0  \n",
       "19157             127     0.0  \n",
       "\n",
       "[19158 rows x 14 columns]"
      ]
     },
     "execution_count": 3,
     "metadata": {},
     "output_type": "execute_result"
    }
   ],
   "source": [
    "df = pd.read_csv('aug_train.csv')\n",
    "df"
   ]
  },
  {
   "cell_type": "code",
   "execution_count": 4,
   "id": "9c614a8c",
   "metadata": {},
   "outputs": [
    {
     "data": {
      "text/plain": [
       "enrollee_id                 int64\n",
       "city                       object\n",
       "city_development_index    float64\n",
       "gender                     object\n",
       "relevent_experience        object\n",
       "enrolled_university        object\n",
       "education_level            object\n",
       "major_discipline           object\n",
       "experience                 object\n",
       "company_size               object\n",
       "company_type               object\n",
       "last_new_job               object\n",
       "training_hours              int64\n",
       "target                    float64\n",
       "dtype: object"
      ]
     },
     "execution_count": 4,
     "metadata": {},
     "output_type": "execute_result"
    }
   ],
   "source": [
    "df.dtypes"
   ]
  },
  {
   "cell_type": "code",
   "execution_count": 5,
   "id": "88c803ba",
   "metadata": {},
   "outputs": [
    {
     "data": {
      "text/plain": [
       "<AxesSubplot:>"
      ]
     },
     "execution_count": 5,
     "metadata": {},
     "output_type": "execute_result"
    },
    {
     "data": {
      "image/png": "[encoded data removed]",
      "text/plain": [
       "<Figure size 432x288 with 1 Axes>"
      ]
     },
     "metadata": {
      "needs_background": "light"
     },
     "output_type": "display_data"
    }
   ],
   "source": [
    "CountTarget = pd.value_counts(df['target'].values, sort=True)\n",
    "CountTarget.plot.bar()"
   ]
  },
  {
   "cell_type": "code",
   "execution_count": 6,
   "id": "6363b772",
   "metadata": {},
   "outputs": [
    {
     "data": {
      "text/plain": [
       "0.0    75.07\n",
       "1.0    24.93\n",
       "Name: target, dtype: float64"
      ]
     },
     "execution_count": 6,
     "metadata": {},
     "output_type": "execute_result"
    }
   ],
   "source": [
    "round((df.target.value_counts() / len(df)) * 100 , 2)"
   ]
  },
  {
   "cell_type": "code",
   "execution_count": 7,
   "id": "9c7613f7",
   "metadata": {},
   "outputs": [
    {
     "data": {
      "text/plain": [
       "enrollee_id               19158\n",
       "city                        123\n",
       "city_development_index       93\n",
       "gender                        3\n",
       "relevent_experience           2\n",
       "enrolled_university           3\n",
       "education_level               5\n",
       "major_discipline              6\n",
       "experience                   22\n",
       "company_size                  8\n",
       "company_type                  6\n",
       "last_new_job                  6\n",
       "training_hours              241\n",
       "target                        2\n",
       "dtype: int64"
      ]
     },
     "execution_count": 7,
     "metadata": {},
     "output_type": "execute_result"
    }
   ],
   "source": [
    "df.nunique()"
   ]
  },
  {
   "cell_type": "code",
   "execution_count": 8,
   "id": "5aee8b20",
   "metadata": {},
   "outputs": [
    {
     "data": {
      "text/plain": [
       "<AxesSubplot:>"
      ]
     },
     "execution_count": 8,
     "metadata": {},
     "output_type": "execute_result"
    },
    {
     "data": {
      "image/png": "[encoded data removed]",
      "text/plain": [
       "<Figure size 432x288 with 1 Axes>"
      ]
     },
     "metadata": {
      "needs_background": "light"
     },
     "output_type": "display_data"
    }
   ],
   "source": [
    "df.isnull().sum().plot(kind='bar')"
   ]
  },
  {
   "cell_type": "code",
   "execution_count": 9,
   "id": "e5e70a2f",
   "metadata": {},
   "outputs": [
    {
     "data": {
      "text/html": [
       "<div>\n",
       "<style scoped>\n",
       "    .dataframe tbody tr th:only-of-type {\n",
       "        vertical-align: middle;\n",
       "    }\n",
       "\n",
       "    .dataframe tbody tr th {\n",
       "        vertical-align: top;\n",
       "    }\n",
       "\n",
       "    .dataframe thead th {\n",
       "        text-align: right;\n",
       "    }\n",
       "</style>\n",
       "<table border=\"1\" class=\"dataframe\">\n",
       "  <thead>\n",
       "    <tr style=\"text-align: right;\">\n",
       "      <th></th>\n",
       "      <th>enrollee_id</th>\n",
       "      <th>city_development_index</th>\n",
       "      <th>training_hours</th>\n",
       "      <th>target</th>\n",
       "    </tr>\n",
       "  </thead>\n",
       "  <tbody>\n",
       "    <tr>\n",
       "      <th>enrollee_id</th>\n",
       "      <td>1.000000</td>\n",
       "      <td>-0.040455</td>\n",
       "      <td>0.000998</td>\n",
       "      <td>0.049475</td>\n",
       "    </tr>\n",
       "    <tr>\n",
       "      <th>city_development_index</th>\n",
       "      <td>-0.040455</td>\n",
       "      <td>1.000000</td>\n",
       "      <td>0.001920</td>\n",
       "      <td>-0.341665</td>\n",
       "    </tr>\n",
       "    <tr>\n",
       "      <th>training_hours</th>\n",
       "      <td>0.000998</td>\n",
       "      <td>0.001920</td>\n",
       "      <td>1.000000</td>\n",
       "      <td>-0.021577</td>\n",
       "    </tr>\n",
       "    <tr>\n",
       "      <th>target</th>\n",
       "      <td>0.049475</td>\n",
       "      <td>-0.341665</td>\n",
       "      <td>-0.021577</td>\n",
       "      <td>1.000000</td>\n",
       "    </tr>\n",
       "  </tbody>\n",
       "</table>\n",
       "</div>"
      ],
      "text/plain": [
       "                        enrollee_id  city_development_index  training_hours  \\\n",
       "enrollee_id                1.000000               -0.040455        0.000998   \n",
       "city_development_index    -0.040455                1.000000        0.001920   \n",
       "training_hours             0.000998                0.001920        1.000000   \n",
       "target                     0.049475               -0.341665       -0.021577   \n",
       "\n",
       "                          target  \n",
       "enrollee_id             0.049475  \n",
       "city_development_index -0.341665  \n",
       "training_hours         -0.021577  \n",
       "target                  1.000000  "
      ]
     },
     "execution_count": 9,
     "metadata": {},
     "output_type": "execute_result"
    }
   ],
   "source": [
    "df.corr()"
   ]
  },
  {
   "cell_type": "markdown",
   "id": "3bfca9df",
   "metadata": {},
   "source": [
    "# Data Cleaning"
   ]
  },
  {
   "cell_type": "markdown",
   "id": "66ab3ac1",
   "metadata": {},
   "source": [
    "### experience"
   ]
  },
  {
   "cell_type": "code",
   "execution_count": 11,
   "id": "e3f4ee11",
   "metadata": {},
   "outputs": [],
   "source": [
    "# df.experience.value_counts()"
   ]
  },
  {
   "cell_type": "code",
   "execution_count": 12,
   "id": "a6b175bb",
   "metadata": {},
   "outputs": [],
   "source": [
    "experience_values = { '>20' : '21', '<1' : '0'}"
   ]
  },
  {
   "cell_type": "code",
   "execution_count": 13,
   "id": "c19274a1",
   "metadata": {},
   "outputs": [],
   "source": [
    "df.experience = df.experience.replace(experience_values)"
   ]
  },
  {
   "cell_type": "code",
   "execution_count": 14,
   "id": "f7fe7f43",
   "metadata": {},
   "outputs": [],
   "source": [
    "# df.experience.value_counts()"
   ]
  },
  {
   "cell_type": "code",
   "execution_count": 15,
   "id": "0858eb2e",
   "metadata": {},
   "outputs": [],
   "source": [
    "df['experience'] = pd.to_numeric(df['experience'])"
   ]
  },
  {
   "cell_type": "code",
   "execution_count": 16,
   "id": "cdfbd4b8",
   "metadata": {},
   "outputs": [],
   "source": [
    "# # Convert experience to groups of experience ranges\n",
    "# bins_experience=[-1,4,8,12,16,20,200] #4 is in bin 1\n",
    "# labels_experience = [1,2,3,4,5,6]\n",
    "# df['experience'] = pd.cut(df['experience'], bins=bins_experience, labels=labels_experience) \n",
    "# # df['experience'] = pd.cut(df['experience'], bins=bins_experience, labels=labels_experience)"
   ]
  },
  {
   "cell_type": "code",
   "execution_count": 17,
   "id": "0852652e",
   "metadata": {},
   "outputs": [
    {
     "data": {
      "text/plain": [
       "21.0    3286\n",
       "5.0     1430\n",
       "4.0     1403\n",
       "3.0     1354\n",
       "6.0     1216\n",
       "2.0     1127\n",
       "7.0     1028\n",
       "10.0     985\n",
       "9.0      980\n",
       "8.0      802\n",
       "15.0     686\n",
       "11.0     664\n",
       "14.0     586\n",
       "1.0      549\n",
       "0.0      522\n",
       "16.0     508\n",
       "12.0     494\n",
       "13.0     399\n",
       "17.0     342\n",
       "19.0     304\n",
       "18.0     280\n",
       "20.0     148\n",
       "Name: experience, dtype: int64"
      ]
     },
     "execution_count": 17,
     "metadata": {},
     "output_type": "execute_result"
    }
   ],
   "source": [
    "df.experience.value_counts()"
   ]
  },
  {
   "cell_type": "markdown",
   "id": "15ad62d8",
   "metadata": {},
   "source": [
    "### last new job"
   ]
  },
  {
   "cell_type": "code",
   "execution_count": 19,
   "id": "5adb0e41",
   "metadata": {},
   "outputs": [],
   "source": [
    "last_new_job_values = {'>4' : '4+'}"
   ]
  },
  {
   "cell_type": "code",
   "execution_count": 20,
   "id": "64ea6f62",
   "metadata": {},
   "outputs": [],
   "source": [
    "df.last_new_job = df.last_new_job.replace(last_new_job_values)"
   ]
  },
  {
   "cell_type": "code",
   "execution_count": 21,
   "id": "a337acd8",
   "metadata": {},
   "outputs": [
    {
     "data": {
      "text/plain": [
       "1        8040\n",
       "4+       3290\n",
       "2        2900\n",
       "never    2452\n",
       "4        1029\n",
       "3        1024\n",
       "Name: last_new_job, dtype: int64"
      ]
     },
     "execution_count": 21,
     "metadata": {},
     "output_type": "execute_result"
    }
   ],
   "source": [
    "df.last_new_job.value_counts()"
   ]
  },
  {
   "cell_type": "markdown",
   "id": "75c36223",
   "metadata": {},
   "source": [
    "### company size"
   ]
  },
  {
   "cell_type": "code",
   "execution_count": 22,
   "id": "2fe993d9",
   "metadata": {},
   "outputs": [
    {
     "data": {
      "text/plain": [
       "50-99        3083\n",
       "100-500      2571\n",
       "10000+       2019\n",
       "10/49        1471\n",
       "1000-4999    1328\n",
       "<10          1308\n",
       "500-999       877\n",
       "5000-9999     563\n",
       "Name: company_size, dtype: int64"
      ]
     },
     "execution_count": 22,
     "metadata": {},
     "output_type": "execute_result"
    }
   ],
   "source": [
    "df.company_size.value_counts()"
   ]
  },
  {
   "cell_type": "code",
   "execution_count": 23,
   "id": "c3cec17b",
   "metadata": {},
   "outputs": [],
   "source": [
    "company_size_values = { '10/49' : '10-49', '<10' : '0-10'}"
   ]
  },
  {
   "cell_type": "code",
   "execution_count": 24,
   "id": "767f581b",
   "metadata": {},
   "outputs": [],
   "source": [
    "df.company_size = df.company_size.replace(company_size_values)"
   ]
  },
  {
   "cell_type": "code",
   "execution_count": 25,
   "id": "f1921b7b",
   "metadata": {},
   "outputs": [
    {
     "data": {
      "text/plain": [
       "50-99        3083\n",
       "100-500      2571\n",
       "10000+       2019\n",
       "10-49        1471\n",
       "1000-4999    1328\n",
       "0-10         1308\n",
       "500-999       877\n",
       "5000-9999     563\n",
       "Name: company_size, dtype: int64"
      ]
     },
     "execution_count": 25,
     "metadata": {},
     "output_type": "execute_result"
    }
   ],
   "source": [
    "df.company_size.value_counts()"
   ]
  },
  {
   "cell_type": "code",
   "execution_count": 26,
   "id": "de3cddde",
   "metadata": {},
   "outputs": [],
   "source": [
    "# df = df.fillna(df.mode())"
   ]
  },
  {
   "cell_type": "code",
   "execution_count": 27,
   "id": "4a31ce9a",
   "metadata": {},
   "outputs": [],
   "source": [
    "# df = df.fillna(df.mode().iloc[0])"
   ]
  },
  {
   "cell_type": "markdown",
   "id": "8ab7441d",
   "metadata": {},
   "source": [
    "## Split into train, val, test"
   ]
  },
  {
   "cell_type": "code",
   "execution_count": 31,
   "id": "073d03d5",
   "metadata": {},
   "outputs": [],
   "source": [
    "from sklearn.model_selection import train_test_split\n",
    "df_full_train, df_test = train_test_split(df, test_size=0.2, random_state=1)\n",
    "df_train, df_val = train_test_split(df_full_train, test_size=0.25, random_state=1)"
   ]
  },
  {
   "cell_type": "code",
   "execution_count": 32,
   "id": "f748e476",
   "metadata": {},
   "outputs": [],
   "source": [
    "y_train = df_train.target.values\n",
    "y_val = df_val.target.values\n",
    "y_test = df_test.target.values\n",
    "\n",
    "del df_train['target']\n",
    "del df_val['target']\n",
    "del df_test['target']\n",
    "del df_train['enrollee_id']\n",
    "del df_val['enrollee_id']\n",
    "del df_test['enrollee_id']"
   ]
  },
  {
   "cell_type": "markdown",
   "id": "3ddf2839",
   "metadata": {},
   "source": [
    "## StandardScalar"
   ]
  },
  {
   "cell_type": "code",
   "execution_count": 33,
   "id": "cd35e05f",
   "metadata": {},
   "outputs": [],
   "source": [
    "# # standar_scaler = StandardScaler()\n",
    "# ct = ColumnTransformer([\n",
    "#         ('training_hours_scaler', StandardScaler(), ['training_hours', 'experience'])\n",
    "#     ], remainder='passthrough')\n",
    "\n",
    "\n",
    "# df_train_scalar = ct.fit_transform(df_train)\n",
    "# df_val_scalar = ct.transform(df_val)"
   ]
  },
  {
   "cell_type": "markdown",
   "id": "027f1434",
   "metadata": {},
   "source": [
    "## Imputer "
   ]
  },
  {
   "cell_type": "code",
   "execution_count": 34,
   "id": "cfca33e2",
   "metadata": {},
   "outputs": [],
   "source": [
    "from sklearn.impute import SimpleImputer\n",
    "# imputer = SimpleImputer(strategy='most_frequent')\n",
    "imputer = SimpleImputer(strategy='constant')\n",
    "df_train_impute = imputer.fit_transform(df_train)"
   ]
  },
  {
   "cell_type": "code",
   "execution_count": 35,
   "id": "c45e2e41",
   "metadata": {},
   "outputs": [],
   "source": [
    "df_val_impute = imputer.transform(df_val)"
   ]
  },
  {
   "cell_type": "code",
   "execution_count": 36,
   "id": "ec654ef3",
   "metadata": {},
   "outputs": [],
   "source": [
    "df_train = pd.DataFrame(df_train_impute, columns = df_train.columns)\n",
    "# df_train"
   ]
  },
  {
   "cell_type": "code",
   "execution_count": 37,
   "id": "e62dee2b",
   "metadata": {},
   "outputs": [
    {
     "data": {
      "text/plain": [
       "(11494, 12)"
      ]
     },
     "execution_count": 37,
     "metadata": {},
     "output_type": "execute_result"
    }
   ],
   "source": [
    "df_train.shape"
   ]
  },
  {
   "cell_type": "code",
   "execution_count": 38,
   "id": "62a074ce",
   "metadata": {},
   "outputs": [],
   "source": [
    "df_val = pd.DataFrame(df_val_impute, columns = df_train.columns)\n",
    "# df_val"
   ]
  },
  {
   "cell_type": "markdown",
   "id": "80d4de18",
   "metadata": {},
   "source": [
    "## DictVectorizer"
   ]
  },
  {
   "cell_type": "code",
   "execution_count": 39,
   "id": "4af04bbf",
   "metadata": {},
   "outputs": [],
   "source": [
    "from sklearn.feature_extraction import DictVectorizer\n",
    "dv = DictVectorizer(sparse=False)\n",
    "\n",
    "train_dict = df_train.to_dict(orient='records')\n",
    "X_train = dv.fit_transform(train_dict)\n",
    "\n",
    "val_dict = df_val.to_dict(orient='records')\n",
    "X_val = dv.transform(val_dict)"
   ]
  },
  {
   "cell_type": "markdown",
   "id": "38162923",
   "metadata": {},
   "source": [
    "## Decision Tree"
   ]
  },
  {
   "cell_type": "code",
   "execution_count": 40,
   "id": "07ab37f4",
   "metadata": {},
   "outputs": [
    {
     "data": {
      "text/plain": [
       "DecisionTreeClassifier()"
      ]
     },
     "execution_count": 40,
     "metadata": {},
     "output_type": "execute_result"
    }
   ],
   "source": [
    "dt = DecisionTreeClassifier()\n",
    "dt.fit(X_train, y_train)"
   ]
  },
  {
   "cell_type": "code",
   "execution_count": 41,
   "id": "5e21c14b",
   "metadata": {},
   "outputs": [
    {
     "data": {
      "text/plain": [
       "0.6377513847129428"
      ]
     },
     "execution_count": 41,
     "metadata": {},
     "output_type": "execute_result"
    }
   ],
   "source": [
    "y_pred = dt.predict_proba(X_val)[:, 1]\n",
    "roc_auc_score(y_val, y_pred)"
   ]
  },
  {
   "cell_type": "code",
   "execution_count": 42,
   "id": "81e3b22d",
   "metadata": {},
   "outputs": [
    {
     "data": {
      "text/plain": [
       "0.4573762123532415"
      ]
     },
     "execution_count": 42,
     "metadata": {},
     "output_type": "execute_result"
    }
   ],
   "source": [
    "y_pred = dt.predict_proba(X_val)[:, 1]\n",
    "y_real = y_pred >= 0.3\n",
    "f1_score(y_val, y_real)"
   ]
  },
  {
   "cell_type": "code",
   "execution_count": 43,
   "id": "a7410d07",
   "metadata": {},
   "outputs": [
    {
     "data": {
      "text/plain": [
       "0.9999975533657437"
      ]
     },
     "execution_count": 43,
     "metadata": {},
     "output_type": "execute_result"
    }
   ],
   "source": [
    "y_pred = dt.predict_proba(X_train)[:, 1]\n",
    "roc_auc_score(y_train, y_pred)"
   ]
  },
  {
   "cell_type": "markdown",
   "id": "45cc3c2f",
   "metadata": {},
   "source": [
    "### Decision Tree max_depth=3"
   ]
  },
  {
   "cell_type": "code",
   "execution_count": 44,
   "id": "48f6cc28",
   "metadata": {},
   "outputs": [
    {
     "data": {
      "text/plain": [
       "DecisionTreeClassifier(max_depth=3)"
      ]
     },
     "execution_count": 44,
     "metadata": {},
     "output_type": "execute_result"
    }
   ],
   "source": [
    "dt = DecisionTreeClassifier(max_depth=3)\n",
    "dt.fit(X_train, y_train)"
   ]
  },
  {
   "cell_type": "code",
   "execution_count": 45,
   "id": "317eb367",
   "metadata": {},
   "outputs": [
    {
     "name": "stdout",
     "output_type": "stream",
     "text": [
      "train: 0.7830889085050992\n",
      "val: 0.7789381750057097\n"
     ]
    }
   ],
   "source": [
    "y_pred = dt.predict_proba(X_train)[:, 1]\n",
    "auc = roc_auc_score(y_train, y_pred)\n",
    "print('train:', auc)\n",
    "\n",
    "y_pred = dt.predict_proba(X_val)[:, 1]\n",
    "auc = roc_auc_score(y_val, y_pred)\n",
    "print('val:', auc)"
   ]
  },
  {
   "cell_type": "code",
   "execution_count": 47,
   "id": "3d48511f",
   "metadata": {},
   "outputs": [
    {
     "name": "stdout",
     "output_type": "stream",
     "text": [
      "i : 0.000, f1 : 0.4017 , roc : 0.779\n",
      "i : 0.100, f1 : 0.5455 , roc : 0.779\n",
      "i : 0.200, f1 : 0.5759 , roc : 0.779\n",
      "i : 0.300, f1 : 0.6080 , roc : 0.779\n",
      "i : 0.400, f1 : 0.6080 , roc : 0.779\n",
      "i : 0.500, f1 : 0.4787 , roc : 0.779\n",
      "i : 0.600, f1 : 0.0000 , roc : 0.779\n",
      "i : 0.700, f1 : 0.0000 , roc : 0.779\n",
      "i : 0.800, f1 : 0.0000 , roc : 0.779\n",
      "i : 0.900, f1 : 0.0000 , roc : 0.779\n",
      "i : 1.000, f1 : 0.0000 , roc : 0.779\n"
     ]
    }
   ],
   "source": [
    "y_pred = dt.predict_proba(X_val)[:, 1]\n",
    "for i in np.arange(0.0, 1.01, 0.1):\n",
    "    y_threshold = y_pred >= i\n",
    "    f1 = f1_score(y_val, y_threshold)\n",
    "    roc = roc_auc_score(y_val, y_pred)\n",
    "    print(\"i : %.3f, f1 : %.4f , roc : %.3f\" % (i, f1, roc))"
   ]
  },
  {
   "cell_type": "markdown",
   "id": "6aad8eb9",
   "metadata": {},
   "source": [
    "#### from the code above, We pick threshold 0.3"
   ]
  },
  {
   "cell_type": "markdown",
   "id": "aba79ef5",
   "metadata": {},
   "source": [
    "### Tuning Parameter Decision Tree"
   ]
  },
  {
   "cell_type": "code",
   "execution_count": 48,
   "id": "7ed9f0d1",
   "metadata": {},
   "outputs": [
    {
     "name": "stdout",
     "output_type": "stream",
     "text": [
      "   1 -> 0.660 -> 0.4894\n",
      "   2 -> 0.760 -> 0.5759\n",
      "   3 -> 0.779 -> 0.6080\n",
      "   4 -> 0.786 -> 0.6079\n",
      "   5 -> 0.791 -> 0.6138\n",
      "   6 -> 0.783 -> 0.6247\n",
      "  10 -> 0.754 -> 0.6080\n",
      "  15 -> 0.667 -> 0.5453\n",
      "  20 -> 0.619 -> 0.5057\n",
      "None -> 0.638 -> 0.4576\n"
     ]
    }
   ],
   "source": [
    "depths = [1, 2, 3, 4, 5, 6, 10, 15, 20, None]\n",
    "\n",
    "for depth in depths: \n",
    "    dt = DecisionTreeClassifier(max_depth=depth)\n",
    "    dt.fit(X_train, y_train)\n",
    "    \n",
    "    y_pred = dt.predict_proba(X_val)[:, 1]\n",
    "    auc = roc_auc_score(y_val, y_pred)\n",
    "    \n",
    "    y_pred = dt.predict_proba(X_val)[:, 1] >= 0.3\n",
    "    f1 = f1_score(y_val, y_pred)\n",
    "    \n",
    "    print('%4s -> %.3f -> %.4f' % (depth, auc, f1))"
   ]
  },
  {
   "cell_type": "code",
   "execution_count": 49,
   "id": "295f6d0e",
   "metadata": {},
   "outputs": [],
   "source": [
    "scores = []\n",
    "\n",
    "for depth in [4, 5, 6]:\n",
    "    for s in [1, 5, 10, 15, 20, 500, 100, 200]:\n",
    "        dt = DecisionTreeClassifier(max_depth=depth, min_samples_leaf=s)\n",
    "        dt.fit(X_train, y_train)\n",
    "\n",
    "        y_pred = dt.predict_proba(X_val)[:, 1]\n",
    "        auc = roc_auc_score(y_val, y_pred)\n",
    "        \n",
    "        scores.append((depth, s, auc))"
   ]
  },
  {
   "cell_type": "code",
   "execution_count": 50,
   "id": "26c08a7b",
   "metadata": {},
   "outputs": [],
   "source": [
    "columns = ['max_depth', 'min_samples_leaf', 'auc']\n",
    "df_scores = pd.DataFrame(scores, columns=columns)"
   ]
  },
  {
   "cell_type": "code",
   "execution_count": 51,
   "id": "155cfc06",
   "metadata": {},
   "outputs": [
    {
     "data": {
      "text/html": [
       "<div>\n",
       "<style scoped>\n",
       "    .dataframe tbody tr th:only-of-type {\n",
       "        vertical-align: middle;\n",
       "    }\n",
       "\n",
       "    .dataframe tbody tr th {\n",
       "        vertical-align: top;\n",
       "    }\n",
       "\n",
       "    .dataframe thead tr th {\n",
       "        text-align: left;\n",
       "    }\n",
       "\n",
       "    .dataframe thead tr:last-of-type th {\n",
       "        text-align: right;\n",
       "    }\n",
       "</style>\n",
       "<table border=\"1\" class=\"dataframe\">\n",
       "  <thead>\n",
       "    <tr>\n",
       "      <th></th>\n",
       "      <th colspan=\"3\" halign=\"left\">auc</th>\n",
       "    </tr>\n",
       "    <tr>\n",
       "      <th>max_depth</th>\n",
       "      <th>4</th>\n",
       "      <th>5</th>\n",
       "      <th>6</th>\n",
       "    </tr>\n",
       "    <tr>\n",
       "      <th>min_samples_leaf</th>\n",
       "      <th></th>\n",
       "      <th></th>\n",
       "      <th></th>\n",
       "    </tr>\n",
       "  </thead>\n",
       "  <tbody>\n",
       "    <tr>\n",
       "      <th>1</th>\n",
       "      <td>0.786</td>\n",
       "      <td>0.791</td>\n",
       "      <td>0.783</td>\n",
       "    </tr>\n",
       "    <tr>\n",
       "      <th>5</th>\n",
       "      <td>0.786</td>\n",
       "      <td>0.791</td>\n",
       "      <td>0.788</td>\n",
       "    </tr>\n",
       "    <tr>\n",
       "      <th>10</th>\n",
       "      <td>0.788</td>\n",
       "      <td>0.792</td>\n",
       "      <td>0.789</td>\n",
       "    </tr>\n",
       "    <tr>\n",
       "      <th>15</th>\n",
       "      <td>0.788</td>\n",
       "      <td>0.791</td>\n",
       "      <td>0.791</td>\n",
       "    </tr>\n",
       "    <tr>\n",
       "      <th>20</th>\n",
       "      <td>0.788</td>\n",
       "      <td>0.791</td>\n",
       "      <td>0.796</td>\n",
       "    </tr>\n",
       "    <tr>\n",
       "      <th>100</th>\n",
       "      <td>0.789</td>\n",
       "      <td>0.791</td>\n",
       "      <td>0.791</td>\n",
       "    </tr>\n",
       "    <tr>\n",
       "      <th>200</th>\n",
       "      <td>0.788</td>\n",
       "      <td>0.787</td>\n",
       "      <td>0.791</td>\n",
       "    </tr>\n",
       "    <tr>\n",
       "      <th>500</th>\n",
       "      <td>0.786</td>\n",
       "      <td>0.789</td>\n",
       "      <td>0.790</td>\n",
       "    </tr>\n",
       "  </tbody>\n",
       "</table>\n",
       "</div>"
      ],
      "text/plain": [
       "                    auc              \n",
       "max_depth             4      5      6\n",
       "min_samples_leaf                     \n",
       "1                 0.786  0.791  0.783\n",
       "5                 0.786  0.791  0.788\n",
       "10                0.788  0.792  0.789\n",
       "15                0.788  0.791  0.791\n",
       "20                0.788  0.791  0.796\n",
       "100               0.789  0.791  0.791\n",
       "200               0.788  0.787  0.791\n",
       "500               0.786  0.789  0.790"
      ]
     },
     "execution_count": 51,
     "metadata": {},
     "output_type": "execute_result"
    }
   ],
   "source": [
    "df_scores_pivot = df_scores.pivot(index='min_samples_leaf', columns=['max_depth'], values=['auc'])\n",
    "df_scores_pivot.round(3)"
   ]
  },
  {
   "cell_type": "code",
   "execution_count": 52,
   "id": "bc6979cd",
   "metadata": {},
   "outputs": [
    {
     "data": {
      "text/plain": [
       "<AxesSubplot:xlabel='None-max_depth', ylabel='min_samples_leaf'>"
      ]
     },
     "execution_count": 52,
     "metadata": {},
     "output_type": "execute_result"
    },
    {
     "data": {
      "image/png": "[encoded data removed]",
      "text/plain": [
       "<Figure size 432x288 with 2 Axes>"
      ]
     },
     "metadata": {
      "needs_background": "light"
     },
     "output_type": "display_data"
    }
   ],
   "source": [
    "sns.heatmap(df_scores_pivot, annot=True, fmt=\".3f\")"
   ]
  },
  {
   "cell_type": "markdown",
   "id": "34dec5c5",
   "metadata": {},
   "source": [
    "#### we choose max_depth = 6 and min_sample_leaf=20"
   ]
  },
  {
   "cell_type": "markdown",
   "id": "c8d7c566",
   "metadata": {},
   "source": [
    "### Final model Decision Tree"
   ]
  },
  {
   "cell_type": "code",
   "execution_count": 54,
   "id": "32861b45",
   "metadata": {},
   "outputs": [
    {
     "data": {
      "text/plain": [
       "DecisionTreeClassifier(max_depth=6, min_samples_leaf=20)"
      ]
     },
     "execution_count": 54,
     "metadata": {},
     "output_type": "execute_result"
    }
   ],
   "source": [
    "dt = DecisionTreeClassifier(max_depth=6, min_samples_leaf=20)\n",
    "dt.fit(X_train, y_train)"
   ]
  },
  {
   "cell_type": "markdown",
   "id": "ea07edd0",
   "metadata": {},
   "source": [
    "## Random Forest "
   ]
  },
  {
   "cell_type": "code",
   "execution_count": 55,
   "id": "debaa376",
   "metadata": {},
   "outputs": [],
   "source": [
    "from sklearn.ensemble import RandomForestClassifier"
   ]
  },
  {
   "cell_type": "code",
   "execution_count": 56,
   "id": "922e257b",
   "metadata": {},
   "outputs": [],
   "source": [
    "scores = []\n",
    "\n",
    "for n in range(10, 201, 10):\n",
    "    rf = RandomForestClassifier(n_estimators=n, random_state=1)\n",
    "    rf.fit(X_train, y_train)\n",
    "\n",
    "    y_pred = rf.predict_proba(X_val)[:, 1]\n",
    "    auc = roc_auc_score(y_val, y_pred)\n",
    "    \n",
    "    y_pred = rf.predict_proba(X_val)[:, 1]\n",
    "    y_threshold = y_pred >= 0.3\n",
    "    f1 = f1_score(y_val,y_threshold)\n",
    "    \n",
    "    scores.append((n, auc, f1))"
   ]
  },
  {
   "cell_type": "code",
   "execution_count": 57,
   "id": "ec5d04f1",
   "metadata": {},
   "outputs": [
    {
     "data": {
      "text/html": [
       "<div>\n",
       "<style scoped>\n",
       "    .dataframe tbody tr th:only-of-type {\n",
       "        vertical-align: middle;\n",
       "    }\n",
       "\n",
       "    .dataframe tbody tr th {\n",
       "        vertical-align: top;\n",
       "    }\n",
       "\n",
       "    .dataframe thead th {\n",
       "        text-align: right;\n",
       "    }\n",
       "</style>\n",
       "<table border=\"1\" class=\"dataframe\">\n",
       "  <thead>\n",
       "    <tr style=\"text-align: right;\">\n",
       "      <th></th>\n",
       "      <th>n_estimators</th>\n",
       "      <th>auc</th>\n",
       "      <th>f1</th>\n",
       "    </tr>\n",
       "  </thead>\n",
       "  <tbody>\n",
       "    <tr>\n",
       "      <th>0</th>\n",
       "      <td>10</td>\n",
       "      <td>0.757520</td>\n",
       "      <td>0.558544</td>\n",
       "    </tr>\n",
       "    <tr>\n",
       "      <th>1</th>\n",
       "      <td>20</td>\n",
       "      <td>0.770851</td>\n",
       "      <td>0.587413</td>\n",
       "    </tr>\n",
       "    <tr>\n",
       "      <th>2</th>\n",
       "      <td>30</td>\n",
       "      <td>0.777527</td>\n",
       "      <td>0.588546</td>\n",
       "    </tr>\n",
       "    <tr>\n",
       "      <th>3</th>\n",
       "      <td>40</td>\n",
       "      <td>0.779505</td>\n",
       "      <td>0.591964</td>\n",
       "    </tr>\n",
       "    <tr>\n",
       "      <th>4</th>\n",
       "      <td>50</td>\n",
       "      <td>0.780585</td>\n",
       "      <td>0.595004</td>\n",
       "    </tr>\n",
       "    <tr>\n",
       "      <th>5</th>\n",
       "      <td>60</td>\n",
       "      <td>0.780918</td>\n",
       "      <td>0.597670</td>\n",
       "    </tr>\n",
       "    <tr>\n",
       "      <th>6</th>\n",
       "      <td>70</td>\n",
       "      <td>0.782706</td>\n",
       "      <td>0.601802</td>\n",
       "    </tr>\n",
       "    <tr>\n",
       "      <th>7</th>\n",
       "      <td>80</td>\n",
       "      <td>0.782227</td>\n",
       "      <td>0.603146</td>\n",
       "    </tr>\n",
       "    <tr>\n",
       "      <th>8</th>\n",
       "      <td>90</td>\n",
       "      <td>0.782783</td>\n",
       "      <td>0.602616</td>\n",
       "    </tr>\n",
       "    <tr>\n",
       "      <th>9</th>\n",
       "      <td>100</td>\n",
       "      <td>0.783927</td>\n",
       "      <td>0.600630</td>\n",
       "    </tr>\n",
       "    <tr>\n",
       "      <th>10</th>\n",
       "      <td>110</td>\n",
       "      <td>0.785069</td>\n",
       "      <td>0.599460</td>\n",
       "    </tr>\n",
       "    <tr>\n",
       "      <th>11</th>\n",
       "      <td>120</td>\n",
       "      <td>0.784572</td>\n",
       "      <td>0.602442</td>\n",
       "    </tr>\n",
       "    <tr>\n",
       "      <th>12</th>\n",
       "      <td>130</td>\n",
       "      <td>0.784403</td>\n",
       "      <td>0.603347</td>\n",
       "    </tr>\n",
       "    <tr>\n",
       "      <th>13</th>\n",
       "      <td>140</td>\n",
       "      <td>0.784135</td>\n",
       "      <td>0.601177</td>\n",
       "    </tr>\n",
       "    <tr>\n",
       "      <th>14</th>\n",
       "      <td>150</td>\n",
       "      <td>0.784828</td>\n",
       "      <td>0.603074</td>\n",
       "    </tr>\n",
       "    <tr>\n",
       "      <th>15</th>\n",
       "      <td>160</td>\n",
       "      <td>0.784879</td>\n",
       "      <td>0.605430</td>\n",
       "    </tr>\n",
       "    <tr>\n",
       "      <th>16</th>\n",
       "      <td>170</td>\n",
       "      <td>0.783993</td>\n",
       "      <td>0.607320</td>\n",
       "    </tr>\n",
       "    <tr>\n",
       "      <th>17</th>\n",
       "      <td>180</td>\n",
       "      <td>0.784302</td>\n",
       "      <td>0.607434</td>\n",
       "    </tr>\n",
       "    <tr>\n",
       "      <th>18</th>\n",
       "      <td>190</td>\n",
       "      <td>0.784241</td>\n",
       "      <td>0.606446</td>\n",
       "    </tr>\n",
       "    <tr>\n",
       "      <th>19</th>\n",
       "      <td>200</td>\n",
       "      <td>0.784061</td>\n",
       "      <td>0.607078</td>\n",
       "    </tr>\n",
       "  </tbody>\n",
       "</table>\n",
       "</div>"
      ],
      "text/plain": [
       "    n_estimators       auc        f1\n",
       "0             10  0.757520  0.558544\n",
       "1             20  0.770851  0.587413\n",
       "2             30  0.777527  0.588546\n",
       "3             40  0.779505  0.591964\n",
       "4             50  0.780585  0.595004\n",
       "5             60  0.780918  0.597670\n",
       "6             70  0.782706  0.601802\n",
       "7             80  0.782227  0.603146\n",
       "8             90  0.782783  0.602616\n",
       "9            100  0.783927  0.600630\n",
       "10           110  0.785069  0.599460\n",
       "11           120  0.784572  0.602442\n",
       "12           130  0.784403  0.603347\n",
       "13           140  0.784135  0.601177\n",
       "14           150  0.784828  0.603074\n",
       "15           160  0.784879  0.605430\n",
       "16           170  0.783993  0.607320\n",
       "17           180  0.784302  0.607434\n",
       "18           190  0.784241  0.606446\n",
       "19           200  0.784061  0.607078"
      ]
     },
     "execution_count": 57,
     "metadata": {},
     "output_type": "execute_result"
    }
   ],
   "source": [
    "df_scores = pd.DataFrame(scores, columns=['n_estimators', 'auc', 'f1'])\n",
    "df_scores"
   ]
  },
  {
   "cell_type": "code",
   "execution_count": 58,
   "id": "16026106",
   "metadata": {},
   "outputs": [
    {
     "data": {
      "text/plain": [
       "[<matplotlib.lines.Line2D at 0x15d72c29a00>]"
      ]
     },
     "execution_count": 58,
     "metadata": {},
     "output_type": "execute_result"
    },
    {
     "data": {
      "image/png": "[encoded data removed]",
      "text/plain": [
       "<Figure size 432x288 with 1 Axes>"
      ]
     },
     "metadata": {
      "needs_background": "light"
     },
     "output_type": "display_data"
    }
   ],
   "source": [
    "plt.plot(df_scores.n_estimators, df_scores.f1)"
   ]
  },
  {
   "cell_type": "code",
   "execution_count": 59,
   "id": "d94ac7f7",
   "metadata": {},
   "outputs": [],
   "source": [
    "# n_estimators = 200"
   ]
  },
  {
   "cell_type": "code",
   "execution_count": 60,
   "id": "91c93b2e",
   "metadata": {},
   "outputs": [
    {
     "data": {
      "text/plain": [
       "[<matplotlib.lines.Line2D at 0x15d72c909a0>]"
      ]
     },
     "execution_count": 60,
     "metadata": {},
     "output_type": "execute_result"
    },
    {
     "data": {
      "image/png": "[encoded data removed]",
      "text/plain": [
       "<Figure size 432x288 with 1 Axes>"
      ]
     },
     "metadata": {
      "needs_background": "light"
     },
     "output_type": "display_data"
    }
   ],
   "source": [
    "plt.plot(df_scores.n_estimators, df_scores.auc)"
   ]
  },
  {
   "cell_type": "code",
   "execution_count": 61,
   "id": "af73dc34",
   "metadata": {},
   "outputs": [],
   "source": [
    "scores = []\n",
    "\n",
    "for d in [5, 10, 15]:\n",
    "    for n in range(10, 201, 10):\n",
    "        rf = RandomForestClassifier(n_estimators=n,\n",
    "                                    max_depth=d,\n",
    "                                    random_state=1)\n",
    "        rf.fit(X_train, y_train)\n",
    "\n",
    "        y_pred = rf.predict_proba(X_val)[:, 1]\n",
    "        auc = roc_auc_score(y_val, y_pred)\n",
    "\n",
    "        scores.append((d, n, auc))"
   ]
  },
  {
   "cell_type": "code",
   "execution_count": 62,
   "id": "3f982d9c",
   "metadata": {},
   "outputs": [],
   "source": [
    "columns = ['max_depth', 'n_estimators', 'auc']\n",
    "df_scores = pd.DataFrame(scores, columns=columns)"
   ]
  },
  {
   "cell_type": "code",
   "execution_count": 63,
   "id": "c1b492bb",
   "metadata": {},
   "outputs": [
    {
     "data": {
      "text/plain": [
       "<matplotlib.legend.Legend at 0x15d72cbe3d0>"
      ]
     },
     "execution_count": 63,
     "metadata": {},
     "output_type": "execute_result"
    },
    {
     "data": {
      "image/png": "[encoded data removed]",
      "text/plain": [
       "<Figure size 432x288 with 1 Axes>"
      ]
     },
     "metadata": {
      "needs_background": "light"
     },
     "output_type": "display_data"
    }
   ],
   "source": [
    "for d in [5, 10, 15]:\n",
    "    df_subset = df_scores[df_scores.max_depth == d]\n",
    "    \n",
    "    plt.plot(df_subset.n_estimators, df_subset.auc,\n",
    "             label='max_depth=%d' % d)\n",
    "\n",
    "plt.legend()"
   ]
  },
  {
   "cell_type": "markdown",
   "id": "a3883d10",
   "metadata": {},
   "source": [
    "### We pick max_depth = 15"
   ]
  },
  {
   "cell_type": "code",
   "execution_count": 64,
   "id": "e407729a",
   "metadata": {},
   "outputs": [],
   "source": [
    "max_depth = 15"
   ]
  },
  {
   "cell_type": "code",
   "execution_count": 65,
   "id": "47117d16",
   "metadata": {},
   "outputs": [],
   "source": [
    "scores = []\n",
    "\n",
    "for s in [1, 3, 5, 10, 50]:\n",
    "    for n in range(10, 201, 10):\n",
    "        rf = RandomForestClassifier(n_estimators=n,\n",
    "                                    max_depth=max_depth,\n",
    "                                    min_samples_leaf=s,\n",
    "                                    random_state=1)\n",
    "        rf.fit(X_train, y_train)\n",
    "\n",
    "        y_pred = rf.predict_proba(X_val)[:, 1]\n",
    "        auc = roc_auc_score(y_val, y_pred)\n",
    "\n",
    "        scores.append((s, n, auc))"
   ]
  },
  {
   "cell_type": "code",
   "execution_count": 66,
   "id": "7b202e36",
   "metadata": {},
   "outputs": [],
   "source": [
    "columns = ['min_samples_leaf', 'n_estimators', 'auc']\n",
    "df_scores = pd.DataFrame(scores, columns=columns)"
   ]
  },
  {
   "cell_type": "code",
   "execution_count": 67,
   "id": "1b792062",
   "metadata": {},
   "outputs": [
    {
     "data": {
      "text/plain": [
       "<matplotlib.legend.Legend at 0x15d72d597c0>"
      ]
     },
     "execution_count": 67,
     "metadata": {},
     "output_type": "execute_result"
    },
    {
     "data": {
      "image/png": "[encoded data removed]",
      "text/plain": [
       "<Figure size 432x288 with 1 Axes>"
      ]
     },
     "metadata": {
      "needs_background": "light"
     },
     "output_type": "display_data"
    }
   ],
   "source": [
    "colors = ['black', 'blue', 'orange', 'red', 'grey']\n",
    "values = [1, 3, 5, 10, 50]\n",
    "\n",
    "for s, col in zip(values, colors):\n",
    "    df_subset = df_scores[df_scores.min_samples_leaf == s]\n",
    "    \n",
    "    plt.plot(df_subset.n_estimators, df_subset.auc,\n",
    "             color=col,\n",
    "             label='min_samples_leaf=%d' % s)\n",
    "\n",
    "plt.legend()"
   ]
  },
  {
   "cell_type": "markdown",
   "id": "ccd505ad",
   "metadata": {},
   "source": [
    "### We pick min_samples_leaf = 5"
   ]
  },
  {
   "cell_type": "code",
   "execution_count": 68,
   "id": "07b2adde",
   "metadata": {},
   "outputs": [],
   "source": [
    "min_samples_leaf = 5"
   ]
  },
  {
   "cell_type": "markdown",
   "id": "d793f27a",
   "metadata": {},
   "source": [
    "### Final model RandomForest "
   ]
  },
  {
   "cell_type": "code",
   "execution_count": 69,
   "id": "4256de21",
   "metadata": {},
   "outputs": [
    {
     "data": {
      "text/plain": [
       "RandomForestClassifier(max_depth=15, min_samples_leaf=5, n_estimators=200,\n",
       "                       random_state=1)"
      ]
     },
     "execution_count": 69,
     "metadata": {},
     "output_type": "execute_result"
    }
   ],
   "source": [
    "rf = RandomForestClassifier(n_estimators=200,\n",
    "                            max_depth=15,\n",
    "                            min_samples_leaf=5,\n",
    "                            random_state=1)\n",
    "rf.fit(X_train, y_train)"
   ]
  },
  {
   "cell_type": "markdown",
   "id": "e5843f9b",
   "metadata": {},
   "source": [
    "## XGBoost"
   ]
  },
  {
   "cell_type": "code",
   "execution_count": 70,
   "id": "73da1b8b",
   "metadata": {},
   "outputs": [],
   "source": [
    "import xgboost as xgb"
   ]
  },
  {
   "cell_type": "code",
   "execution_count": 71,
   "id": "46ac0561",
   "metadata": {},
   "outputs": [],
   "source": [
    "features = dv.get_feature_names()\n",
    "dtrain = xgb.DMatrix(X_train, label=y_train, feature_names=features)\n",
    "dval = xgb.DMatrix(X_val, label=y_val, feature_names=features)"
   ]
  },
  {
   "cell_type": "code",
   "execution_count": 72,
   "id": "81dbac05",
   "metadata": {},
   "outputs": [
    {
     "name": "stdout",
     "output_type": "stream",
     "text": [
      "[12:23:17] WARNING: C:/Users/Administrator/workspace/xgboost-win64_release_1.4.0/src/learner.cc:1095: Starting in XGBoost 1.3.0, the default evaluation metric used with the objective 'binary:logistic' was changed from 'error' to 'logloss'. Explicitly set eval_metric if you'd like to restore the old behavior.\n"
     ]
    }
   ],
   "source": [
    "xgb_params = {\n",
    "    'eta': 0.3, \n",
    "    'max_depth': 6,\n",
    "    'min_child_weight': 1,\n",
    "    \n",
    "    'objective': 'binary:logistic',\n",
    "    'nthread': 8,\n",
    "    \n",
    "    'seed': 1,\n",
    "    'verbosity': 1,\n",
    "}\n",
    "\n",
    "model = xgb.train(xgb_params, dtrain, num_boost_round=10)"
   ]
  },
  {
   "cell_type": "code",
   "execution_count": 73,
   "id": "793a6ac0",
   "metadata": {},
   "outputs": [
    {
     "data": {
      "text/plain": [
       "0.8019202655811197"
      ]
     },
     "execution_count": 73,
     "metadata": {},
     "output_type": "execute_result"
    }
   ],
   "source": [
    "y_pred = model.predict(dval)\n",
    "roc_auc_score(y_val, y_pred)"
   ]
  },
  {
   "cell_type": "code",
   "execution_count": 74,
   "id": "aba2ca2e",
   "metadata": {},
   "outputs": [
    {
     "name": "stdout",
     "output_type": "stream",
     "text": [
      "i : 0.000, f1 : 0.402 , roc : 0.802\n",
      "i : 0.100, f1 : 0.499 , roc : 0.802\n",
      "i : 0.200, f1 : 0.620 , roc : 0.802\n",
      "i : 0.300, f1 : 0.639 , roc : 0.802\n",
      "i : 0.400, f1 : 0.626 , roc : 0.802\n",
      "i : 0.500, f1 : 0.586 , roc : 0.802\n",
      "i : 0.600, f1 : 0.359 , roc : 0.802\n",
      "i : 0.700, f1 : 0.057 , roc : 0.802\n",
      "i : 0.800, f1 : 0.004 , roc : 0.802\n",
      "i : 0.900, f1 : 0.000 , roc : 0.802\n",
      "i : 1.000, f1 : 0.000 , roc : 0.802\n"
     ]
    }
   ],
   "source": [
    "y_pred = model.predict(dval)\n",
    "for i in np.arange(0.0, 1.01, 0.1):\n",
    "    y_threshold = y_pred >= i\n",
    "    f1 = f1_score(y_val, y_threshold)\n",
    "    roc = roc_auc_score(y_val, y_pred)\n",
    "    print(\"i : %.3f, f1 : %.3f , roc : %.3f\" % (i, f1, roc))"
   ]
  },
  {
   "cell_type": "markdown",
   "id": "7f73d2f3",
   "metadata": {},
   "source": [
    "### we can conclude that the best threshold is 0.3 from the code above"
   ]
  },
  {
   "cell_type": "markdown",
   "id": "7a9095ba",
   "metadata": {},
   "source": [
    "## XGBoost Parameter Tuning"
   ]
  },
  {
   "cell_type": "code",
   "execution_count": 78,
   "id": "55d27854",
   "metadata": {},
   "outputs": [],
   "source": [
    "watchlist = [(dtrain, 'train'), (dval, 'val')]"
   ]
  },
  {
   "cell_type": "code",
   "execution_count": 79,
   "id": "6f88fbc7",
   "metadata": {},
   "outputs": [],
   "source": [
    "def parse_xgb_output(output):\n",
    "    results = []\n",
    "\n",
    "    for line in output.stdout.strip().split('\\n'):\n",
    "        it_line, train_line, val_line = line.split('\\t')\n",
    "\n",
    "        it = int(it_line.strip('[]'))\n",
    "        train = float(train_line.split(':')[1])\n",
    "        val = float(val_line.split(':')[1])\n",
    "\n",
    "        results.append((it, train, val))\n",
    "    \n",
    "    columns = ['num_iter', 'train_auc', 'val_auc']\n",
    "    df_results = pd.DataFrame(results, columns=columns)\n",
    "    return df_results"
   ]
  },
  {
   "cell_type": "code",
   "execution_count": 80,
   "id": "eeb002bb",
   "metadata": {},
   "outputs": [],
   "source": [
    "scores = {}"
   ]
  },
  {
   "cell_type": "code",
   "execution_count": 81,
   "id": "d7a49ed6",
   "metadata": {},
   "outputs": [],
   "source": [
    "%%capture output\n",
    "\n",
    "xgb_params = {\n",
    "    'eta': 0.01, \n",
    "    'max_depth': 6,\n",
    "    'min_child_weight': 1,\n",
    "    \n",
    "    'objective': 'binary:logistic',\n",
    "    'eval_metric': 'auc',\n",
    "\n",
    "    'nthread': 8,\n",
    "    'seed': 1,\n",
    "    'verbosity': 1,\n",
    "}\n",
    "\n",
    "model = xgb.train(xgb_params, dtrain, num_boost_round=200,\n",
    "                  verbose_eval=5,\n",
    "                  evals=watchlist)"
   ]
  },
  {
   "cell_type": "code",
   "execution_count": 82,
   "id": "8238723b",
   "metadata": {},
   "outputs": [
    {
     "data": {
      "text/plain": [
       "'eta=0.01'"
      ]
     },
     "execution_count": 82,
     "metadata": {},
     "output_type": "execute_result"
    }
   ],
   "source": [
    "key = 'eta=%s' % (xgb_params['eta'])\n",
    "scores[key] = parse_xgb_output(output)\n",
    "key"
   ]
  },
  {
   "cell_type": "code",
   "execution_count": 83,
   "id": "4f674047",
   "metadata": {},
   "outputs": [],
   "source": [
    "%%capture output\n",
    "\n",
    "xgb_params = {\n",
    "    'eta': 0.1, \n",
    "    'max_depth': 6,\n",
    "    'min_child_weight': 1,\n",
    "    \n",
    "    'objective': 'binary:logistic',\n",
    "    'eval_metric': 'auc',\n",
    "\n",
    "    'nthread': 8,\n",
    "    'seed': 1,\n",
    "    'verbosity': 1,\n",
    "}\n",
    "\n",
    "model = xgb.train(xgb_params, dtrain, num_boost_round=200,\n",
    "                  verbose_eval=5,\n",
    "                  evals=watchlist)"
   ]
  },
  {
   "cell_type": "code",
   "execution_count": 84,
   "id": "5d343ef7",
   "metadata": {},
   "outputs": [
    {
     "data": {
      "text/plain": [
       "'eta=0.1'"
      ]
     },
     "execution_count": 84,
     "metadata": {},
     "output_type": "execute_result"
    }
   ],
   "source": [
    "key = 'eta=%s' % (xgb_params['eta'])\n",
    "scores[key] = parse_xgb_output(output)\n",
    "key"
   ]
  },
  {
   "cell_type": "code",
   "execution_count": 85,
   "id": "f629bd95",
   "metadata": {},
   "outputs": [],
   "source": [
    "%%capture output\n",
    "\n",
    "xgb_params = {\n",
    "    'eta': 0.3, \n",
    "    'max_depth': 6,\n",
    "    'min_child_weight': 1,\n",
    "    \n",
    "    'objective': 'binary:logistic',\n",
    "    'eval_metric': 'auc',\n",
    "\n",
    "    'nthread': 8,\n",
    "    'seed': 1,\n",
    "    'verbosity': 1,\n",
    "}\n",
    "\n",
    "model = xgb.train(xgb_params, dtrain, num_boost_round=200,\n",
    "                  verbose_eval=5,\n",
    "                  evals=watchlist)"
   ]
  },
  {
   "cell_type": "code",
   "execution_count": 86,
   "id": "7e16dafe",
   "metadata": {},
   "outputs": [
    {
     "data": {
      "text/plain": [
       "'eta=0.3'"
      ]
     },
     "execution_count": 86,
     "metadata": {},
     "output_type": "execute_result"
    }
   ],
   "source": [
    "key = 'eta=%s' % (xgb_params['eta'])\n",
    "scores[key] = parse_xgb_output(output)\n",
    "key"
   ]
  },
  {
   "cell_type": "code",
   "execution_count": 87,
   "id": "9435d2ef",
   "metadata": {},
   "outputs": [
    {
     "data": {
      "text/plain": [
       "dict_items([('eta=0.01',     num_iter  train_auc  val_auc\n",
       "0          0    0.80786  0.79076\n",
       "1          5    0.81325  0.79524\n",
       "2         10    0.81359  0.79404\n",
       "3         15    0.81428  0.79343\n",
       "4         20    0.81552  0.79394\n",
       "5         25    0.81722  0.79666\n",
       "6         30    0.81941  0.79706\n",
       "7         35    0.82077  0.79749\n",
       "8         40    0.82138  0.79812\n",
       "9         45    0.82195  0.79904\n",
       "10        50    0.82268  0.79961\n",
       "11        55    0.82523  0.80100\n",
       "12        60    0.82571  0.79980\n",
       "13        65    0.82748  0.79955\n",
       "14        70    0.82831  0.79954\n",
       "15        75    0.82887  0.79980\n",
       "16        80    0.82969  0.80081\n",
       "17        85    0.82996  0.80146\n",
       "18        90    0.83046  0.80134\n",
       "19        95    0.83070  0.80122\n",
       "20       100    0.83137  0.80165\n",
       "21       105    0.83179  0.80190\n",
       "22       110    0.83247  0.80227\n",
       "23       115    0.83341  0.80272\n",
       "24       120    0.83419  0.80309\n",
       "25       125    0.83468  0.80313\n",
       "26       130    0.83535  0.80329\n",
       "27       135    0.83592  0.80343\n",
       "28       140    0.83641  0.80351\n",
       "29       145    0.83664  0.80378\n",
       "30       150    0.83710  0.80376\n",
       "31       155    0.83769  0.80413\n",
       "32       160    0.83809  0.80441\n",
       "33       165    0.83858  0.80443\n",
       "34       170    0.83900  0.80455\n",
       "35       175    0.83954  0.80440\n",
       "36       180    0.84012  0.80429\n",
       "37       185    0.84073  0.80417\n",
       "38       190    0.84147  0.80398\n",
       "39       195    0.84196  0.80364\n",
       "40       199    0.84230  0.80358), ('eta=0.1',     num_iter  train_auc  val_auc\n",
       "0          0    0.80786  0.79076\n",
       "1          5    0.82341  0.80040\n",
       "2         10    0.83192  0.80184\n",
       "3         15    0.83780  0.80431\n",
       "4         20    0.84358  0.80409\n",
       "5         25    0.84959  0.80320\n",
       "6         30    0.85589  0.80291\n",
       "7         35    0.85992  0.80209\n",
       "8         40    0.86211  0.80108\n",
       "9         45    0.86451  0.79992\n",
       "10        50    0.86743  0.79847\n",
       "11        55    0.86885  0.79872\n",
       "12        60    0.87009  0.79887\n",
       "13        65    0.87194  0.79936\n",
       "14        70    0.87317  0.79942\n",
       "15        75    0.87447  0.79909\n",
       "16        80    0.87602  0.79946\n",
       "17        85    0.87780  0.79864\n",
       "18        90    0.87863  0.79854\n",
       "19        95    0.88014  0.79855\n",
       "20       100    0.88085  0.79882\n",
       "21       105    0.88240  0.79904\n",
       "22       110    0.88403  0.79904\n",
       "23       115    0.88607  0.79881\n",
       "24       120    0.88802  0.79836\n",
       "25       125    0.88921  0.79809\n",
       "26       130    0.89034  0.79782\n",
       "27       135    0.89189  0.79806\n",
       "28       140    0.89263  0.79833\n",
       "29       145    0.89469  0.79769\n",
       "30       150    0.89586  0.79743\n",
       "31       155    0.89760  0.79707\n",
       "32       160    0.89887  0.79709\n",
       "33       165    0.89990  0.79680\n",
       "34       170    0.90108  0.79713\n",
       "35       175    0.90275  0.79693\n",
       "36       180    0.90414  0.79669\n",
       "37       185    0.90567  0.79651\n",
       "38       190    0.90701  0.79680\n",
       "39       195    0.90768  0.79661\n",
       "40       199    0.90878  0.79687), ('eta=0.3',     num_iter  train_auc  val_auc\n",
       "0          0    0.80786  0.79076\n",
       "1          5    0.83793  0.80189\n",
       "2         10    0.85479  0.80350\n",
       "3         15    0.86284  0.80186\n",
       "4         20    0.86848  0.80207\n",
       "5         25    0.87390  0.80104\n",
       "6         30    0.87999  0.80017\n",
       "7         35    0.88545  0.79904\n",
       "8         40    0.88984  0.79862\n",
       "9         45    0.89511  0.79876\n",
       "10        50    0.89965  0.79651\n",
       "11        55    0.90390  0.79461\n",
       "12        60    0.90785  0.79389\n",
       "13        65    0.91074  0.79273\n",
       "14        70    0.91459  0.79223\n",
       "15        75    0.91639  0.79141\n",
       "16        80    0.91810  0.79080\n",
       "17        85    0.92175  0.79066\n",
       "18        90    0.92336  0.79023\n",
       "19        95    0.92647  0.78961\n",
       "20       100    0.92957  0.78982\n",
       "21       105    0.93118  0.78991\n",
       "22       110    0.93377  0.78982\n",
       "23       115    0.93582  0.78887\n",
       "24       120    0.93715  0.78926\n",
       "25       125    0.94024  0.78696\n",
       "26       130    0.94388  0.78701\n",
       "27       135    0.94574  0.78693\n",
       "28       140    0.94770  0.78604\n",
       "29       145    0.94861  0.78572\n",
       "30       150    0.95025  0.78474\n",
       "31       155    0.95317  0.78364\n",
       "32       160    0.95395  0.78355\n",
       "33       165    0.95456  0.78335\n",
       "34       170    0.95709  0.78162\n",
       "35       175    0.95847  0.78122\n",
       "36       180    0.95975  0.78182\n",
       "37       185    0.96087  0.78186\n",
       "38       190    0.96196  0.78181\n",
       "39       195    0.96397  0.78220\n",
       "40       199    0.96492  0.78192)])"
      ]
     },
     "execution_count": 87,
     "metadata": {},
     "output_type": "execute_result"
    }
   ],
   "source": [
    "scores.items()"
   ]
  },
  {
   "cell_type": "code",
   "execution_count": 88,
   "id": "09afe0e7",
   "metadata": {},
   "outputs": [
    {
     "data": {
      "text/plain": [
       "<matplotlib.legend.Legend at 0x15d72f20c40>"
      ]
     },
     "execution_count": 88,
     "metadata": {},
     "output_type": "execute_result"
    },
    {
     "data": {
      "image/png": "[encoded data removed]",
      "text/plain": [
       "<Figure size 432x288 with 1 Axes>"
      ]
     },
     "metadata": {
      "needs_background": "light"
     },
     "output_type": "display_data"
    }
   ],
   "source": [
    "for eta, df_score in scores.items():\n",
    "    plt.plot(df_score.num_iter, df_score.val_auc, label=eta)\n",
    "    \n",
    "plt.legend()"
   ]
  },
  {
   "cell_type": "markdown",
   "id": "9a71185c",
   "metadata": {},
   "source": [
    "### we pick eta=0.1"
   ]
  },
  {
   "cell_type": "code",
   "execution_count": 91,
   "id": "9d9e8c2f",
   "metadata": {},
   "outputs": [],
   "source": [
    "eta=0.1"
   ]
  },
  {
   "cell_type": "code",
   "execution_count": 92,
   "id": "19f1e7bd",
   "metadata": {},
   "outputs": [],
   "source": [
    "scores = {}"
   ]
  },
  {
   "cell_type": "code",
   "execution_count": 93,
   "id": "6900431c",
   "metadata": {},
   "outputs": [],
   "source": [
    "%%capture output\n",
    "\n",
    "xgb_params = {\n",
    "    'eta': 0.1, \n",
    "    'max_depth': 2,\n",
    "    'min_child_weight': 1,\n",
    "\n",
    "    'objective': 'binary:logistic',\n",
    "    'eval_metric': 'auc',\n",
    "\n",
    "    'nthread': 8,\n",
    "    'seed': 1,\n",
    "    'verbosity': 1,\n",
    "}\n",
    "\n",
    "model = xgb.train(xgb_params, dtrain, num_boost_round=200,\n",
    "                  verbose_eval=5,\n",
    "                  evals=watchlist)\n",
    "\n",
    "key = 'max_depth=%s' % (xgb_params['max_depth'])\n",
    "scores[key] = parse_xgb_output(output)\n",
    "    "
   ]
  },
  {
   "cell_type": "code",
   "execution_count": 94,
   "id": "0a077414",
   "metadata": {},
   "outputs": [],
   "source": [
    "%%capture output\n",
    "\n",
    "\n",
    "xgb_params = {\n",
    "    'eta': 0.1, \n",
    "    'max_depth': 4,\n",
    "    'min_child_weight': 1,\n",
    "\n",
    "    'objective': 'binary:logistic',\n",
    "    'eval_metric': 'auc',\n",
    "\n",
    "    'nthread': 8,\n",
    "    'seed': 1,\n",
    "    'verbosity': 1,\n",
    "}\n",
    "\n",
    "model = xgb.train(xgb_params, dtrain, num_boost_round=200,\n",
    "                  verbose_eval=5,\n",
    "                  evals=watchlist)\n",
    "\n",
    "key = 'max_depth=%s' % (xgb_params['max_depth'])\n",
    "scores[key] = parse_xgb_output(output)\n",
    "    "
   ]
  },
  {
   "cell_type": "code",
   "execution_count": 95,
   "id": "aaf8493c",
   "metadata": {},
   "outputs": [],
   "source": [
    "%%capture output\n",
    "\n",
    "\n",
    "xgb_params = {\n",
    "    'eta': 0.1, \n",
    "    'max_depth': 6,\n",
    "    'min_child_weight': 1,\n",
    "\n",
    "    'objective': 'binary:logistic',\n",
    "    'eval_metric': 'auc',\n",
    "\n",
    "    'nthread': 8,\n",
    "    'seed': 1,\n",
    "    'verbosity': 1,\n",
    "}\n",
    "\n",
    "model = xgb.train(xgb_params, dtrain, num_boost_round=200,\n",
    "                  verbose_eval=5,\n",
    "                  evals=watchlist)\n",
    "\n",
    "key = 'max_depth=%s' % (xgb_params['max_depth'])\n",
    "scores[key] = parse_xgb_output(output)"
   ]
  },
  {
   "cell_type": "code",
   "execution_count": 96,
   "id": "8b381a2e",
   "metadata": {},
   "outputs": [
    {
     "data": {
      "text/plain": [
       "{'max_depth=2':     num_iter  train_auc  val_auc\n",
       " 0          0    0.80786  0.79076\n",
       " 1          5    0.83793  0.80189\n",
       " 2         10    0.85479  0.80350\n",
       " 3         15    0.86284  0.80186\n",
       " 4         20    0.86848  0.80207\n",
       " 5         25    0.87390  0.80104\n",
       " 6         30    0.87999  0.80017\n",
       " 7         35    0.88545  0.79904\n",
       " 8         40    0.88984  0.79862\n",
       " 9         45    0.89511  0.79876\n",
       " 10        50    0.89965  0.79651\n",
       " 11        55    0.90390  0.79461\n",
       " 12        60    0.90785  0.79389\n",
       " 13        65    0.91074  0.79273\n",
       " 14        70    0.91459  0.79223\n",
       " 15        75    0.91639  0.79141\n",
       " 16        80    0.91810  0.79080\n",
       " 17        85    0.92175  0.79066\n",
       " 18        90    0.92336  0.79023\n",
       " 19        95    0.92647  0.78961\n",
       " 20       100    0.92957  0.78982\n",
       " 21       105    0.93118  0.78991\n",
       " 22       110    0.93377  0.78982\n",
       " 23       115    0.93582  0.78887\n",
       " 24       120    0.93715  0.78926\n",
       " 25       125    0.94024  0.78696\n",
       " 26       130    0.94388  0.78701\n",
       " 27       135    0.94574  0.78693\n",
       " 28       140    0.94770  0.78604\n",
       " 29       145    0.94861  0.78572\n",
       " 30       150    0.95025  0.78474\n",
       " 31       155    0.95317  0.78364\n",
       " 32       160    0.95395  0.78355\n",
       " 33       165    0.95456  0.78335\n",
       " 34       170    0.95709  0.78162\n",
       " 35       175    0.95847  0.78122\n",
       " 36       180    0.95975  0.78182\n",
       " 37       185    0.96087  0.78186\n",
       " 38       190    0.96196  0.78181\n",
       " 39       195    0.96397  0.78220\n",
       " 40       199    0.96492  0.78192,\n",
       " 'max_depth=4':     num_iter  train_auc  val_auc\n",
       " 0          0    0.76484  0.76020\n",
       " 1          5    0.76607  0.76132\n",
       " 2         10    0.77486  0.77133\n",
       " 3         15    0.77695  0.77126\n",
       " 4         20    0.79074  0.78421\n",
       " 5         25    0.79280  0.78704\n",
       " 6         30    0.79593  0.78915\n",
       " 7         35    0.79685  0.79080\n",
       " 8         40    0.79824  0.79128\n",
       " 9         45    0.79919  0.79214\n",
       " 10        50    0.80074  0.79427\n",
       " 11        55    0.80183  0.79599\n",
       " 12        60    0.80301  0.79675\n",
       " 13        65    0.80406  0.79708\n",
       " 14        70    0.80507  0.79790\n",
       " 15        75    0.80573  0.79785\n",
       " 16        80    0.80664  0.79805\n",
       " 17        85    0.80756  0.79813\n",
       " 18        90    0.80826  0.79849\n",
       " 19        95    0.80901  0.79863\n",
       " 20       100    0.80960  0.79858\n",
       " 21       105    0.81019  0.79885\n",
       " 22       110    0.81079  0.79866\n",
       " 23       115    0.81120  0.79852\n",
       " 24       120    0.81166  0.79862\n",
       " 25       125    0.81219  0.79860\n",
       " 26       130    0.81266  0.79878\n",
       " 27       135    0.81306  0.79859\n",
       " 28       140    0.81332  0.79885\n",
       " 29       145    0.81377  0.79912\n",
       " 30       150    0.81405  0.79906\n",
       " 31       155    0.81446  0.79957\n",
       " 32       160    0.81472  0.79974\n",
       " 33       165    0.81499  0.79989\n",
       " 34       170    0.81528  0.79982\n",
       " 35       175    0.81570  0.79987\n",
       " 36       180    0.81589  0.79986\n",
       " 37       185    0.81619  0.79969\n",
       " 38       190    0.81644  0.79965\n",
       " 39       195    0.81673  0.79983\n",
       " 40       199    0.81681  0.79979,\n",
       " 'max_depth=6':     num_iter  train_auc  val_auc\n",
       " 0          0    0.79319  0.78763\n",
       " 1          5    0.80190  0.79394\n",
       " 2         10    0.80625  0.79711\n",
       " 3         15    0.81163  0.79863\n",
       " 4         20    0.81576  0.80117\n",
       " 5         25    0.81838  0.80310\n",
       " 6         30    0.82168  0.80419\n",
       " 7         35    0.82488  0.80399\n",
       " 8         40    0.82738  0.80451\n",
       " 9         45    0.82838  0.80380\n",
       " 10        50    0.83003  0.80359\n",
       " 11        55    0.83194  0.80409\n",
       " 12        60    0.83328  0.80379\n",
       " 13        65    0.83409  0.80395\n",
       " 14        70    0.83517  0.80368\n",
       " 15        75    0.83600  0.80326\n",
       " 16        80    0.83661  0.80363\n",
       " 17        85    0.83781  0.80395\n",
       " 18        90    0.83857  0.80346\n",
       " 19        95    0.83946  0.80349\n",
       " 20       100    0.84002  0.80320\n",
       " 21       105    0.84066  0.80337\n",
       " 22       110    0.84159  0.80293\n",
       " 23       115    0.84238  0.80268\n",
       " 24       120    0.84316  0.80227\n",
       " 25       125    0.84369  0.80248\n",
       " 26       130    0.84450  0.80218\n",
       " 27       135    0.84511  0.80220\n",
       " 28       140    0.84563  0.80206\n",
       " 29       145    0.84611  0.80198\n",
       " 30       150    0.84671  0.80218\n",
       " 31       155    0.84804  0.80245\n",
       " 32       160    0.84851  0.80228\n",
       " 33       165    0.84896  0.80227\n",
       " 34       170    0.84964  0.80221\n",
       " 35       175    0.84999  0.80231\n",
       " 36       180    0.85100  0.80211\n",
       " 37       185    0.85140  0.80215\n",
       " 38       190    0.85190  0.80218\n",
       " 39       195    0.85332  0.80195\n",
       " 40       199    0.85448  0.80178}"
      ]
     },
     "execution_count": 96,
     "metadata": {},
     "output_type": "execute_result"
    }
   ],
   "source": [
    "scores"
   ]
  },
  {
   "cell_type": "code",
   "execution_count": 97,
   "id": "373313ff",
   "metadata": {},
   "outputs": [
    {
     "data": {
      "text/plain": [
       "<matplotlib.legend.Legend at 0x15d72d54df0>"
      ]
     },
     "execution_count": 97,
     "metadata": {},
     "output_type": "execute_result"
    },
    {
     "data": {
      "image/png": "[encoded data removed]",
      "text/plain": [
       "<Figure size 432x288 with 1 Axes>"
      ]
     },
     "metadata": {
      "needs_background": "light"
     },
     "output_type": "display_data"
    }
   ],
   "source": [
    "for max_depth, df_score in scores.items():\n",
    "    plt.plot(df_score.num_iter, df_score.val_auc, label=max_depth)\n",
    "    \n",
    "plt.legend()"
   ]
  },
  {
   "cell_type": "markdown",
   "id": "39c5ef27",
   "metadata": {},
   "source": [
    "### we pick max_depth=6"
   ]
  },
  {
   "cell_type": "code",
   "execution_count": 98,
   "id": "9b340fe9",
   "metadata": {},
   "outputs": [],
   "source": [
    "max_depth=6"
   ]
  },
  {
   "cell_type": "code",
   "execution_count": 110,
   "id": "90f8d100",
   "metadata": {},
   "outputs": [],
   "source": [
    "scores = {}"
   ]
  },
  {
   "cell_type": "code",
   "execution_count": 111,
   "id": "d633ec97",
   "metadata": {},
   "outputs": [],
   "source": [
    "%%capture output\n",
    "\n",
    "\n",
    "xgb_params = {\n",
    "    'eta': 0.1, \n",
    "    'max_depth': 6,\n",
    "    'min_child_weight': 1,\n",
    "\n",
    "    'objective': 'binary:logistic',\n",
    "    'eval_metric': 'auc',\n",
    "\n",
    "    'nthread': 8,\n",
    "    'seed': 1,\n",
    "    'verbosity': 1,\n",
    "}\n",
    "\n",
    "model = xgb.train(xgb_params, dtrain, num_boost_round=200,\n",
    "                  verbose_eval=5,\n",
    "                  evals=watchlist)\n",
    "\n",
    "key = 'min_child_weight=%s' % (xgb_params['min_child_weight'])\n",
    "scores[key] = parse_xgb_output(output)"
   ]
  },
  {
   "cell_type": "code",
   "execution_count": 113,
   "id": "41232812",
   "metadata": {},
   "outputs": [],
   "source": [
    "%%capture output\n",
    "\n",
    "\n",
    "xgb_params = {\n",
    "    'eta': 0.1, \n",
    "    'max_depth': 6,\n",
    "    'min_child_weight': 20,\n",
    "\n",
    "    'objective': 'binary:logistic',\n",
    "    'eval_metric': 'auc',\n",
    "\n",
    "    'nthread': 8,\n",
    "    'seed': 1,\n",
    "    'verbosity': 1,\n",
    "}\n",
    "\n",
    "model = xgb.train(xgb_params, dtrain, num_boost_round=200,\n",
    "                  verbose_eval=5,\n",
    "                  evals=watchlist)\n",
    "\n",
    "key = 'min_child_weight=%s' % (xgb_params['min_child_weight'])\n",
    "scores[key] = parse_xgb_output(output)"
   ]
  },
  {
   "cell_type": "code",
   "execution_count": 114,
   "id": "8ec36519",
   "metadata": {},
   "outputs": [],
   "source": [
    "%%capture output\n",
    "\n",
    "\n",
    "xgb_params = {\n",
    "    'eta': 0.1, \n",
    "    'max_depth': 6,\n",
    "    'min_child_weight': 30,\n",
    "\n",
    "    'objective': 'binary:logistic',\n",
    "    'eval_metric': 'auc',\n",
    "\n",
    "    'nthread': 8,\n",
    "    'seed': 1,\n",
    "    'verbosity': 1,\n",
    "}\n",
    "\n",
    "model = xgb.train(xgb_params, dtrain, num_boost_round=200,\n",
    "                  verbose_eval=5,\n",
    "                  evals=watchlist)\n",
    "\n",
    "key = 'min_child_weight=%s' % (xgb_params['min_child_weight'])\n",
    "scores[key] = parse_xgb_output(output)"
   ]
  },
  {
   "cell_type": "code",
   "execution_count": 115,
   "id": "e17309c4",
   "metadata": {},
   "outputs": [
    {
     "data": {
      "text/plain": [
       "<matplotlib.legend.Legend at 0x15d7471acd0>"
      ]
     },
     "execution_count": 115,
     "metadata": {},
     "output_type": "execute_result"
    },
    {
     "data": {
      "image/png": "[encoded data removed]",
      "text/plain": [
       "<Figure size 432x288 with 1 Axes>"
      ]
     },
     "metadata": {
      "needs_background": "light"
     },
     "output_type": "display_data"
    }
   ],
   "source": [
    "for min_child_weight, df_score in scores.items():\n",
    "    plt.plot(df_score.num_iter, df_score.val_auc, label=min_child_weight)\n",
    "    \n",
    "plt.legend()"
   ]
  },
  {
   "cell_type": "markdown",
   "id": "e2322edd",
   "metadata": {},
   "source": [
    "### we pick min_child_weight = 1"
   ]
  },
  {
   "cell_type": "code",
   "execution_count": 116,
   "id": "a48f5e76",
   "metadata": {},
   "outputs": [],
   "source": [
    "min_child_weight=1"
   ]
  },
  {
   "cell_type": "markdown",
   "id": "12a8ceaa",
   "metadata": {},
   "source": [
    "### Final model for xgboost"
   ]
  },
  {
   "cell_type": "code",
   "execution_count": 118,
   "id": "7a7483e0",
   "metadata": {},
   "outputs": [],
   "source": [
    "xgb_params = {\n",
    "    'eta': 0.1, \n",
    "    'max_depth': 6,\n",
    "    'min_child_weight': 1,\n",
    "\n",
    "    'objective': 'binary:logistic',\n",
    "    'eval_metric': 'auc',\n",
    "\n",
    "    'nthread': 8,\n",
    "    'seed': 1,\n",
    "    'verbosity': 1,\n",
    "}\n",
    "\n",
    "model = xgb.train(xgb_params, dtrain, num_boost_round=30)"
   ]
  },
  {
   "cell_type": "markdown",
   "id": "63cf7bce",
   "metadata": {},
   "source": [
    "## Logistic Regression"
   ]
  },
  {
   "cell_type": "code",
   "execution_count": 119,
   "id": "f206f4f9",
   "metadata": {},
   "outputs": [
    {
     "data": {
      "text/plain": [
       "LogisticRegression(max_iter=1000000, random_state=1)"
      ]
     },
     "execution_count": 119,
     "metadata": {},
     "output_type": "execute_result"
    }
   ],
   "source": [
    "from sklearn.linear_model import LogisticRegression\n",
    "\n",
    "model = LogisticRegression(solver='lbfgs', C=1.0, random_state=1,max_iter=1000000)\n",
    "model.fit(X_train, y_train)"
   ]
  },
  {
   "cell_type": "code",
   "execution_count": 120,
   "id": "7c2d3e3a",
   "metadata": {},
   "outputs": [],
   "source": [
    "y_pred = model.predict_proba(X_val)[:, 1]"
   ]
  },
  {
   "cell_type": "code",
   "execution_count": 121,
   "id": "60fe4bbc",
   "metadata": {},
   "outputs": [
    {
     "data": {
      "text/plain": [
       "0.793408574560951"
      ]
     },
     "execution_count": 121,
     "metadata": {},
     "output_type": "execute_result"
    }
   ],
   "source": [
    "auc = roc_auc_score(y_val, y_pred)\n",
    "auc"
   ]
  },
  {
   "cell_type": "code",
   "execution_count": 122,
   "id": "490859e4",
   "metadata": {},
   "outputs": [
    {
     "data": {
      "text/plain": [
       "0.6316279069767441"
      ]
     },
     "execution_count": 122,
     "metadata": {},
     "output_type": "execute_result"
    }
   ],
   "source": [
    "y_pred = model.predict_proba(X_val)[:, 1]\n",
    "y_predict = (y_pred >= 0.3)\n",
    "f1 = f1_score(y_val, y_predict)\n",
    "f1"
   ]
  },
  {
   "cell_type": "markdown",
   "id": "38571dab",
   "metadata": {},
   "source": [
    "## Selecting the final model "
   ]
  },
  {
   "cell_type": "markdown",
   "id": "237c216b",
   "metadata": {},
   "source": [
    "### Decision Tree"
   ]
  },
  {
   "cell_type": "code",
   "execution_count": 123,
   "id": "ee5a8311",
   "metadata": {},
   "outputs": [
    {
     "data": {
      "text/plain": [
       "DecisionTreeClassifier(max_depth=6, min_samples_leaf=20)"
      ]
     },
     "execution_count": 123,
     "metadata": {},
     "output_type": "execute_result"
    }
   ],
   "source": [
    "dt = DecisionTreeClassifier(max_depth=6, min_samples_leaf=20)\n",
    "dt.fit(X_train, y_train)"
   ]
  },
  {
   "cell_type": "code",
   "execution_count": 124,
   "id": "0cc86cd9",
   "metadata": {},
   "outputs": [
    {
     "name": "stdout",
     "output_type": "stream",
     "text": [
      "roc decision tree:  0.7958884440578867\n",
      "f1 decision tree:  0.6310360993905297\n"
     ]
    }
   ],
   "source": [
    "y_pred = dt.predict_proba(X_val)[:, 1]\n",
    "roc = roc_auc_score(y_val, y_pred)\n",
    "print('roc decision tree: ', roc)\n",
    "\n",
    "y_predict = y_pred >= 0.3\n",
    "f1 = f1_score(y_val, y_predict)\n",
    "print('f1 decision tree: ', f1)"
   ]
  },
  {
   "cell_type": "markdown",
   "id": "51f9afae",
   "metadata": {},
   "source": [
    "### Random Forest"
   ]
  },
  {
   "cell_type": "code",
   "execution_count": 125,
   "id": "ea71b300",
   "metadata": {},
   "outputs": [
    {
     "data": {
      "text/plain": [
       "RandomForestClassifier(max_depth=15, min_samples_leaf=5, n_estimators=200,\n",
       "                       random_state=1)"
      ]
     },
     "execution_count": 125,
     "metadata": {},
     "output_type": "execute_result"
    }
   ],
   "source": [
    "rf = RandomForestClassifier(n_estimators=200,\n",
    "                            max_depth=15,\n",
    "                            min_samples_leaf=5,\n",
    "                            random_state=1)\n",
    "rf.fit(X_train, y_train)"
   ]
  },
  {
   "cell_type": "code",
   "execution_count": 126,
   "id": "e6b3a205",
   "metadata": {},
   "outputs": [
    {
     "name": "stdout",
     "output_type": "stream",
     "text": [
      "roc random forest:  0.800960929070629\n",
      "f1 random fores:  0.6363222576240327\n"
     ]
    }
   ],
   "source": [
    "y_pred = rf.predict_proba(X_val)[:, 1]\n",
    "roc = roc_auc_score(y_val, y_pred)\n",
    "print('roc random forest: ', roc)\n",
    "\n",
    "y_predict = y_pred >= 0.3\n",
    "f1 = f1_score(y_val, y_predict)\n",
    "print('f1 random fores: ', f1)"
   ]
  },
  {
   "cell_type": "code",
   "execution_count": 127,
   "id": "b3291c65",
   "metadata": {},
   "outputs": [
    {
     "data": {
      "text/plain": [
       "<AxesSubplot:>"
      ]
     },
     "execution_count": 127,
     "metadata": {},
     "output_type": "execute_result"
    },
    {
     "data": {
      "image/png": "[encoded data removed]",
      "text/plain": [
       "<Figure size 432x288 with 1 Axes>"
      ]
     },
     "metadata": {
      "needs_background": "light"
     },
     "output_type": "display_data"
    }
   ],
   "source": [
    "feat_importances = pd.Series(rf.feature_importances_, index=dv.get_feature_names())\n",
    "feat_importances.nlargest(20).plot(kind='barh')"
   ]
  },
  {
   "cell_type": "markdown",
   "id": "c4c08502",
   "metadata": {},
   "source": [
    "#### we can see from the chart above that city_development_index is the most important feature in random forest"
   ]
  },
  {
   "cell_type": "markdown",
   "id": "fd659759",
   "metadata": {},
   "source": [
    "### XGBoost"
   ]
  },
  {
   "cell_type": "code",
   "execution_count": 128,
   "id": "66e5141d",
   "metadata": {},
   "outputs": [],
   "source": [
    "xgb_params = {\n",
    "    'eta': 0.1, \n",
    "    'max_depth': 6,\n",
    "    'min_child_weight': 1,\n",
    "\n",
    "    'objective': 'binary:logistic',\n",
    "    'eval_metric': 'auc',\n",
    "\n",
    "    'nthread': 8,\n",
    "    'seed': 1,\n",
    "    'verbosity': 1,\n",
    "}\n",
    "\n",
    "model = xgb.train(xgb_params, dtrain, num_boost_round=30)"
   ]
  },
  {
   "cell_type": "code",
   "execution_count": 129,
   "id": "ad321821",
   "metadata": {},
   "outputs": [
    {
     "name": "stdout",
     "output_type": "stream",
     "text": [
      "roc xgboost:  0.8034132907106329\n",
      "f1 xgboost:  0.6411308709530323\n"
     ]
    }
   ],
   "source": [
    "y_pred = model.predict(dval)\n",
    "roc = roc_auc_score(y_val, y_pred)\n",
    "print('roc xgboost: ', roc)\n",
    "\n",
    "y_predict = y_pred >= 0.3\n",
    "f1 = f1_score(y_val, y_predict)\n",
    "print('f1 xgboost: ', f1)"
   ]
  },
  {
   "cell_type": "code",
   "execution_count": 130,
   "id": "a9a8fc54",
   "metadata": {},
   "outputs": [
    {
     "data": {
      "text/plain": [
       "<AxesSubplot:>"
      ]
     },
     "execution_count": 130,
     "metadata": {},
     "output_type": "execute_result"
    },
    {
     "data": {
      "image/png": "[encoded data removed]",
      "text/plain": [
       "<Figure size 432x288 with 1 Axes>"
      ]
     },
     "metadata": {
      "needs_background": "light"
     },
     "output_type": "display_data"
    }
   ],
   "source": [
    "feat_importances_xgboost = pd.Series(model.get_score(importance_type='gain'), index=dv.get_feature_names())\n",
    "feat_importances_xgboost.nlargest(20).plot(kind='barh')"
   ]
  },
  {
   "cell_type": "markdown",
   "id": "80979327",
   "metadata": {},
   "source": [
    "#### we can see from the chart above that company_size=missing_value is the most important feature in XGBoost model"
   ]
  },
  {
   "cell_type": "markdown",
   "id": "aef36be9",
   "metadata": {},
   "source": [
    "### Logistic Regression"
   ]
  },
  {
   "cell_type": "code",
   "execution_count": 132,
   "id": "bbdf3af3",
   "metadata": {},
   "outputs": [
    {
     "data": {
      "text/plain": [
       "LogisticRegression(max_iter=1000000, random_state=1)"
      ]
     },
     "execution_count": 132,
     "metadata": {},
     "output_type": "execute_result"
    }
   ],
   "source": [
    "model = LogisticRegression(solver='lbfgs', C=1.0, random_state=1,max_iter=1000000)\n",
    "model.fit(X_train, y_train)"
   ]
  },
  {
   "cell_type": "code",
   "execution_count": 133,
   "id": "55adb27e",
   "metadata": {},
   "outputs": [
    {
     "name": "stdout",
     "output_type": "stream",
     "text": [
      "roc logistic regression:  0.793408574560951\n",
      "f1 logistic regression:  0.6316279069767441\n"
     ]
    }
   ],
   "source": [
    "y_pred = model.predict_proba(X_val)[:, 1]\n",
    "roc = roc_auc_score(y_val, y_pred)\n",
    "print('roc logistic regression: ', roc)\n",
    "\n",
    "y_predict = y_pred >= 0.3\n",
    "f1 = f1_score(y_val, y_predict)\n",
    "print('f1 logistic regression: ', f1)"
   ]
  },
  {
   "cell_type": "markdown",
   "id": "582292be",
   "metadata": {},
   "source": [
    "#### We choose XGBoost as our final model because it has the highest auc and f1 score"
   ]
  },
  {
   "cell_type": "markdown",
   "id": "5e3e1781",
   "metadata": {},
   "source": [
    "# Using The Final Model "
   ]
  },
  {
   "cell_type": "markdown",
   "id": "778e7f56",
   "metadata": {},
   "source": [
    "### we train our model on full_train data"
   ]
  },
  {
   "cell_type": "code",
   "execution_count": 134,
   "id": "b5071b57",
   "metadata": {},
   "outputs": [],
   "source": [
    "y_full_train = df_full_train.target.values\n",
    "\n",
    "del df_full_train['target']\n",
    "del df_full_train['enrollee_id']"
   ]
  },
  {
   "cell_type": "code",
   "execution_count": 135,
   "id": "b93ef33a",
   "metadata": {},
   "outputs": [],
   "source": [
    "imputer = SimpleImputer(strategy='constant')\n",
    "df_full_train_impute = imputer.fit_transform(df_full_train)\n",
    "df_test_impute = imputer.transform(df_test)\n",
    "\n",
    "\n",
    "df_full_train = pd.DataFrame(df_full_train_impute, columns = df_full_train.columns)\n",
    "df_test = pd.DataFrame(df_test_impute, columns = df_full_train.columns)\n"
   ]
  },
  {
   "cell_type": "code",
   "execution_count": 136,
   "id": "28275953",
   "metadata": {},
   "outputs": [],
   "source": [
    "dv = DictVectorizer(sparse=False)\n",
    "\n",
    "full_train_dict = df_full_train.to_dict(orient='records')\n",
    "X_full_train = dv.fit_transform(full_train_dict)\n",
    "\n",
    "test_dict = df_test.to_dict(orient='records')\n",
    "X_test = dv.transform(test_dict)"
   ]
  },
  {
   "cell_type": "code",
   "execution_count": 137,
   "id": "7df5d61f",
   "metadata": {},
   "outputs": [],
   "source": [
    "dfulltrain = xgb.DMatrix(X_full_train, label=y_full_train,\n",
    "                    feature_names=dv.get_feature_names())\n",
    "\n",
    "dtest = xgb.DMatrix(X_test, feature_names=dv.get_feature_names())"
   ]
  },
  {
   "cell_type": "code",
   "execution_count": 138,
   "id": "84d6c18b",
   "metadata": {},
   "outputs": [],
   "source": [
    "xgb_params = {\n",
    "    'eta': 0.1, \n",
    "    'max_depth': 6,\n",
    "    'min_child_weight': 1,\n",
    "\n",
    "    'objective': 'binary:logistic',\n",
    "    'eval_metric': 'auc',\n",
    "\n",
    "    'nthread': 8,\n",
    "    'seed': 1,\n",
    "    'verbosity': 1,\n",
    "}\n",
    "\n",
    "model = xgb.train(xgb_params, dfulltrain, num_boost_round=30)"
   ]
  },
  {
   "cell_type": "code",
   "execution_count": 139,
   "id": "185b4619",
   "metadata": {},
   "outputs": [
    {
     "name": "stdout",
     "output_type": "stream",
     "text": [
      "roc xgboost fulltrain:  0.8022665791768347\n",
      "f1 xgboost fulltrain:  0.6322521699406122\n"
     ]
    }
   ],
   "source": [
    "y_pred = model.predict(dtest)\n",
    "roc = roc_auc_score(y_test, y_pred)\n",
    "print('roc xgboost fulltrain: ', roc)\n",
    "\n",
    "y_predict = y_pred >= 0.3\n",
    "f1 = f1_score(y_test, y_predict)\n",
    "print('f1 xgboost fulltrain: ', f1)"
   ]
  },
  {
   "cell_type": "code",
   "execution_count": 140,
   "id": "fdbfd850",
   "metadata": {},
   "outputs": [
    {
     "data": {
      "text/plain": [
       "<AxesSubplot:>"
      ]
     },
     "execution_count": 140,
     "metadata": {},
     "output_type": "execute_result"
    },
    {
     "data": {
      "image/png": "[encoded data removed]",
      "text/plain": [
       "<Figure size 432x288 with 1 Axes>"
      ]
     },
     "metadata": {
      "needs_background": "light"
     },
     "output_type": "display_data"
    }
   ],
   "source": [
    "feat_importances_xgboost = pd.Series(model.get_score(importance_type='gain'), index=dv.get_feature_names())\n",
    "feat_importances_xgboost.nlargest(20).plot(kind='barh')"
   ]
  }
 ],
 "metadata": {
  "kernelspec": {
   "display_name": "Python 3",
   "language": "python",
   "name": "python3"
  },
  "language_info": {
   "codemirror_mode": {
    "name": "ipython",
    "version": 3
   },
   "file_extension": ".py",
   "mimetype": "text/x-python",
   "name": "python",
   "nbconvert_exporter": "python",
   "pygments_lexer": "ipython3",
   "version": "3.8.11"
  }
 },
 "nbformat": 4,
 "nbformat_minor": 5
}
