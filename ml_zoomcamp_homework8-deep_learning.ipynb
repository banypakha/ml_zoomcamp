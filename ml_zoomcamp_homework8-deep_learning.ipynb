{
 "cells": [
  {
   "cell_type": "code",
   "execution_count": 1,
   "metadata": {},
   "outputs": [],
   "source": [
    "import numpy as np\n",
    "import matplotlib.pyplot as plt"
   ]
  },
  {
   "cell_type": "code",
   "execution_count": 10,
   "metadata": {},
   "outputs": [],
   "source": [
    "import tensorflow as tf\n",
    "from tensorflow import keras\n",
    "from tensorflow.keras.preprocessing.image import ImageDataGenerator"
   ]
  },
  {
   "cell_type": "code",
   "execution_count": 5,
   "metadata": {},
   "outputs": [],
   "source": [
    "from tensorflow.keras.preprocessing.image import load_img\n",
    "from tensorflow.keras.optimizers import SGD"
   ]
  },
  {
   "cell_type": "code",
   "execution_count": 4,
   "metadata": {},
   "outputs": [],
   "source": [
    "model = tf.keras.models.Sequential([\n",
    "    tf.keras.layers.Conv2D(32, (3,3), activation='relu', input_shape=(150, 150, 3)),\n",
    "    tf.keras.layers.MaxPooling2D(2, 2),\n",
    "    tf.keras.layers.Flatten(),\n",
    "    tf.keras.layers.Dense(64, activation='relu'),\n",
    "    tf.keras.layers.Dense(1, activation='sigmoid')\n",
    "])"
   ]
  },
  {
   "cell_type": "markdown",
   "metadata": {},
   "source": [
    "#### Question 1"
   ]
  },
  {
   "cell_type": "code",
   "execution_count": 6,
   "metadata": {},
   "outputs": [],
   "source": [
    "model.compile(loss='binary_crossentropy',\n",
    "              optimizer=SGD(lr=0.002, momentum=0.8),\n",
    "              metrics=['accuracy'])"
   ]
  },
  {
   "cell_type": "markdown",
   "metadata": {},
   "source": [
    "#### Question 2"
   ]
  },
  {
   "cell_type": "code",
   "execution_count": 8,
   "metadata": {},
   "outputs": [
    {
     "name": "stdout",
     "output_type": "stream",
     "text": [
      "Model: \"sequential\"\n",
      "_________________________________________________________________\n",
      "Layer (type)                 Output Shape              Param #   \n",
      "=================================================================\n",
      "conv2d (Conv2D)              (None, 148, 148, 32)      896       \n",
      "_________________________________________________________________\n",
      "max_pooling2d (MaxPooling2D) (None, 74, 74, 32)        0         \n",
      "_________________________________________________________________\n",
      "flatten (Flatten)            (None, 175232)            0         \n",
      "_________________________________________________________________\n",
      "dense (Dense)                (None, 64)                11214912  \n",
      "_________________________________________________________________\n",
      "dense_1 (Dense)              (None, 1)                 65        \n",
      "=================================================================\n",
      "Total params: 11,215,873\n",
      "Trainable params: 11,215,873\n",
      "Non-trainable params: 0\n",
      "_________________________________________________________________\n"
     ]
    }
   ],
   "source": [
    "model.summary()"
   ]
  },
  {
   "cell_type": "code",
   "execution_count": 11,
   "metadata": {},
   "outputs": [],
   "source": [
    "data_generator = ImageDataGenerator(rescale=1./255)"
   ]
  },
  {
   "cell_type": "code",
   "execution_count": 13,
   "metadata": {},
   "outputs": [
    {
     "name": "stdout",
     "output_type": "stream",
     "text": [
      "Found 20000 images belonging to 2 classes.\n"
     ]
    }
   ],
   "source": [
    "train_generator = data_generator.flow_from_directory(\n",
    "        \"cats-or-dogs/train\",  \n",
    "        target_size=(150, 150), \n",
    "        batch_size=20,\n",
    "        class_mode='binary',\n",
    "        shuffle=True)"
   ]
  },
  {
   "cell_type": "code",
   "execution_count": 15,
   "metadata": {},
   "outputs": [
    {
     "name": "stdout",
     "output_type": "stream",
     "text": [
      "Found 5000 images belonging to 2 classes.\n"
     ]
    }
   ],
   "source": [
    "validation_generator = data_generator.flow_from_directory(\n",
    "        \"cats-or-dogs/validation\",  \n",
    "        target_size=(150, 150), \n",
    "        batch_size=20,\n",
    "        class_mode='binary',\n",
    "        shuffle=True)"
   ]
  },
  {
   "cell_type": "code",
   "execution_count": 16,
   "metadata": {},
   "outputs": [
    {
     "name": "stdout",
     "output_type": "stream",
     "text": [
      "Epoch 1/10\n",
      "100/100 [==============================] - 25s 208ms/step - loss: 0.6978 - accuracy: 0.5467 - val_loss: 0.6654 - val_accuracy: 0.5840\n",
      "Epoch 2/10\n",
      "100/100 [==============================] - 18s 184ms/step - loss: 0.6655 - accuracy: 0.5924 - val_loss: 0.6597 - val_accuracy: 0.5770\n",
      "Epoch 3/10\n",
      "100/100 [==============================] - 17s 173ms/step - loss: 0.6645 - accuracy: 0.5826 - val_loss: 0.6564 - val_accuracy: 0.6170\n",
      "Epoch 4/10\n",
      "100/100 [==============================] - 16s 162ms/step - loss: 0.6639 - accuracy: 0.5923 - val_loss: 0.7010 - val_accuracy: 0.5450\n",
      "Epoch 5/10\n",
      "100/100 [==============================] - 15s 152ms/step - loss: 0.6489 - accuracy: 0.6179 - val_loss: 0.6515 - val_accuracy: 0.6170\n",
      "Epoch 6/10\n",
      "100/100 [==============================] - 14s 143ms/step - loss: 0.6345 - accuracy: 0.6290 - val_loss: 0.6485 - val_accuracy: 0.5970\n",
      "Epoch 7/10\n",
      "100/100 [==============================] - 14s 139ms/step - loss: 0.6310 - accuracy: 0.6286 - val_loss: 0.6360 - val_accuracy: 0.6530\n",
      "Epoch 8/10\n",
      "100/100 [==============================] - 13s 130ms/step - loss: 0.6516 - accuracy: 0.6317 - val_loss: 0.6648 - val_accuracy: 0.5720\n",
      "Epoch 9/10\n",
      "100/100 [==============================] - 13s 126ms/step - loss: 0.6216 - accuracy: 0.6329 - val_loss: 0.6228 - val_accuracy: 0.6420\n",
      "Epoch 10/10\n",
      "100/100 [==============================] - 12s 120ms/step - loss: 0.6034 - accuracy: 0.6776 - val_loss: 0.6321 - val_accuracy: 0.6170\n"
     ]
    }
   ],
   "source": [
    "history = model.fit(\n",
    "    train_generator,\n",
    "    steps_per_epoch=100,\n",
    "    epochs=10,\n",
    "    validation_data=validation_generator,\n",
    "    validation_steps=50\n",
    ")"
   ]
  },
  {
   "cell_type": "code",
   "execution_count": 37,
   "metadata": {},
   "outputs": [],
   "source": [
    "from statistics import median, stdev, mean"
   ]
  },
  {
   "cell_type": "code",
   "execution_count": 26,
   "metadata": {},
   "outputs": [
    {
     "data": {
      "text/plain": [
       "[0.5515000224113464,\n",
       " 0.590499997138977,\n",
       " 0.5929999947547913,\n",
       " 0.609000027179718,\n",
       " 0.6274999976158142,\n",
       " 0.6225000023841858,\n",
       " 0.6230000257492065,\n",
       " 0.6420000195503235,\n",
       " 0.640500009059906,\n",
       " 0.6644999980926514]"
      ]
     },
     "execution_count": 26,
     "metadata": {},
     "output_type": "execute_result"
    }
   ],
   "source": [
    "history.history['accuracy']"
   ]
  },
  {
   "cell_type": "markdown",
   "metadata": {},
   "source": [
    "#### Question 3"
   ]
  },
  {
   "cell_type": "code",
   "execution_count": 27,
   "metadata": {},
   "outputs": [
    {
     "data": {
      "text/plain": [
       "0.6227500140666962"
      ]
     },
     "execution_count": 27,
     "metadata": {},
     "output_type": "execute_result"
    }
   ],
   "source": [
    "median(history.history['accuracy'])"
   ]
  },
  {
   "cell_type": "markdown",
   "metadata": {},
   "source": [
    "#### Question 4"
   ]
  },
  {
   "cell_type": "code",
   "execution_count": 29,
   "metadata": {},
   "outputs": [
    {
     "data": {
      "text/plain": [
       "0.02358449385468671"
      ]
     },
     "execution_count": 29,
     "metadata": {},
     "output_type": "execute_result"
    }
   ],
   "source": [
    "stdev(history.history['loss'])"
   ]
  },
  {
   "cell_type": "code",
   "execution_count": 30,
   "metadata": {},
   "outputs": [
    {
     "name": "stdout",
     "output_type": "stream",
     "text": [
      "Found 20000 images belonging to 2 classes.\n"
     ]
    }
   ],
   "source": [
    "train_gen = ImageDataGenerator(\n",
    "    rescale=1./255,\n",
    "    rotation_range=40,\n",
    "    width_shift_range=0.2,\n",
    "    height_shift_range=0.2,\n",
    "    shear_range=0.2,\n",
    "    zoom_range=0.2,\n",
    "    horizontal_flip=True,\n",
    "    fill_mode='nearest'\n",
    ")\n",
    "\n",
    "train_generator = train_gen.flow_from_directory(\n",
    "        \"cats-or-dogs/train\",  \n",
    "        target_size=(150, 150), \n",
    "        batch_size=20,\n",
    "        class_mode='binary',\n",
    "        shuffle=True)"
   ]
  },
  {
   "cell_type": "code",
   "execution_count": 31,
   "metadata": {},
   "outputs": [
    {
     "name": "stdout",
     "output_type": "stream",
     "text": [
      "Epoch 1/10\n",
      "100/100 [==============================] - 20s 203ms/step - loss: 0.6525 - accuracy: 0.6115 - val_loss: 0.6164 - val_accuracy: 0.6600\n",
      "Epoch 2/10\n",
      "100/100 [==============================] - 20s 198ms/step - loss: 0.6561 - accuracy: 0.5915 - val_loss: 0.6276 - val_accuracy: 0.6370\n",
      "Epoch 3/10\n",
      "100/100 [==============================] - 19s 193ms/step - loss: 0.6384 - accuracy: 0.6190 - val_loss: 0.6259 - val_accuracy: 0.6400\n",
      "Epoch 4/10\n",
      "100/100 [==============================] - 19s 190ms/step - loss: 0.6433 - accuracy: 0.6070 - val_loss: 0.6009 - val_accuracy: 0.6820\n",
      "Epoch 5/10\n",
      "100/100 [==============================] - 19s 190ms/step - loss: 0.6333 - accuracy: 0.6265 - val_loss: 0.6241 - val_accuracy: 0.6450\n",
      "Epoch 6/10\n",
      "100/100 [==============================] - 19s 186ms/step - loss: 0.6336 - accuracy: 0.6235 - val_loss: 0.6468 - val_accuracy: 0.6040\n",
      "Epoch 7/10\n",
      "100/100 [==============================] - 18s 182ms/step - loss: 0.6310 - accuracy: 0.6275 - val_loss: 0.6050 - val_accuracy: 0.6710\n",
      "Epoch 8/10\n",
      "100/100 [==============================] - 19s 186ms/step - loss: 0.6514 - accuracy: 0.6280 - val_loss: 0.5953 - val_accuracy: 0.6980\n",
      "Epoch 9/10\n",
      "100/100 [==============================] - 18s 182ms/step - loss: 0.6276 - accuracy: 0.6515 - val_loss: 0.6131 - val_accuracy: 0.6510\n",
      "Epoch 10/10\n",
      "100/100 [==============================] - 18s 179ms/step - loss: 0.6317 - accuracy: 0.6350 - val_loss: 0.5909 - val_accuracy: 0.6710\n"
     ]
    }
   ],
   "source": [
    "history = model.fit(\n",
    "    train_generator,\n",
    "    steps_per_epoch=100,\n",
    "    epochs=10,\n",
    "    validation_data=validation_generator,\n",
    "    validation_steps=50\n",
    ")"
   ]
  },
  {
   "cell_type": "markdown",
   "metadata": {},
   "source": [
    "#### Question 5"
   ]
  },
  {
   "cell_type": "code",
   "execution_count": 38,
   "metadata": {},
   "outputs": [
    {
     "data": {
      "text/plain": [
       "0.6146091938018798"
      ]
     },
     "execution_count": 38,
     "metadata": {},
     "output_type": "execute_result"
    }
   ],
   "source": [
    "mean(history.history['val_loss'])"
   ]
  },
  {
   "cell_type": "markdown",
   "metadata": {},
   "source": [
    "#### Question 6"
   ]
  },
  {
   "cell_type": "code",
   "execution_count": 41,
   "metadata": {},
   "outputs": [
    {
     "data": {
      "text/plain": [
       "0.6590000033378601"
      ]
     },
     "execution_count": 41,
     "metadata": {},
     "output_type": "execute_result"
    }
   ],
   "source": [
    "mean((history.history['val_accuracy'])[5:])"
   ]
  },
  {
   "cell_type": "code",
   "execution_count": null,
   "metadata": {},
   "outputs": [],
   "source": []
  }
 ],
 "metadata": {
  "kernelspec": {
   "display_name": "Python 3",
   "language": "python",
   "name": "python3"
  },
  "language_info": {
   "codemirror_mode": {
    "name": "ipython",
    "version": 3
   },
   "file_extension": ".py",
   "mimetype": "text/x-python",
   "name": "python",
   "nbconvert_exporter": "python",
   "pygments_lexer": "ipython3",
   "version": "3.8.3"
  }
 },
 "nbformat": 4,
 "nbformat_minor": 5
}
